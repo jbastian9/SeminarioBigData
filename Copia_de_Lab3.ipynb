{
  "nbformat": 4,
  "nbformat_minor": 0,
  "metadata": {
    "colab": {
      "provenance": [],
      "include_colab_link": true
    },
    "kernelspec": {
      "name": "python3",
      "display_name": "Python 3"
    },
    "language_info": {
      "name": "python"
    }
  },
  "cells": [
    {
      "cell_type": "markdown",
      "metadata": {
        "id": "view-in-github",
        "colab_type": "text"
      },
      "source": [
        "<a href=\"https://colab.research.google.com/github/jbastian9/SeminarioBigData/blob/main/Copia_de_Lab3.ipynb\" target=\"_parent\"><img src=\"https://colab.research.google.com/assets/colab-badge.svg\" alt=\"Open In Colab\"/></a>"
      ]
    },
    {
      "cell_type": "code",
      "source": [
        "from google.colab import drive\n",
        "drive.mount('/content/drive')"
      ],
      "metadata": {
        "id": "dMTtJVbGLtWp",
        "colab": {
          "base_uri": "https://localhost:8080/"
        },
        "outputId": "97e95d06-ea93-43c2-cc13-fba55837241b"
      },
      "execution_count": 1,
      "outputs": [
        {
          "output_type": "stream",
          "name": "stdout",
          "text": [
            "Mounted at /content/drive\n"
          ]
        }
      ]
    },
    {
      "cell_type": "code",
      "source": [
        "!pip install pyspark"
      ],
      "metadata": {
        "colab": {
          "base_uri": "https://localhost:8080/"
        },
        "id": "GlA8ysqvRjtd",
        "outputId": "7c528bb2-7aa5-44f6-ef28-1d67d99a88db"
      },
      "execution_count": 2,
      "outputs": [
        {
          "output_type": "stream",
          "name": "stdout",
          "text": [
            "Collecting pyspark\n",
            "  Downloading pyspark-3.5.1.tar.gz (317.0 MB)\n",
            "\u001b[2K     \u001b[90m━━━━━━━━━━━━━━━━━━━━━━━━━━━━━━━━━━━━━━━━\u001b[0m \u001b[32m317.0/317.0 MB\u001b[0m \u001b[31m3.8 MB/s\u001b[0m eta \u001b[36m0:00:00\u001b[0m\n",
            "\u001b[?25h  Preparing metadata (setup.py) ... \u001b[?25l\u001b[?25hdone\n",
            "Requirement already satisfied: py4j==0.10.9.7 in /usr/local/lib/python3.10/dist-packages (from pyspark) (0.10.9.7)\n",
            "Building wheels for collected packages: pyspark\n",
            "  Building wheel for pyspark (setup.py) ... \u001b[?25l\u001b[?25hdone\n",
            "  Created wheel for pyspark: filename=pyspark-3.5.1-py2.py3-none-any.whl size=317488491 sha256=b5b09df303a6dcb4e641ec983efc01364bb82fa5d4698ad88132f66f75e2df51\n",
            "  Stored in directory: /root/.cache/pip/wheels/80/1d/60/2c256ed38dddce2fdd93be545214a63e02fbd8d74fb0b7f3a6\n",
            "Successfully built pyspark\n",
            "Installing collected packages: pyspark\n",
            "Successfully installed pyspark-3.5.1\n"
          ]
        }
      ]
    },
    {
      "cell_type": "markdown",
      "source": [
        "El archivo CSV presenta errores de formato al intentar separar los datos utilizando el delimitador \",\". Por esta razón, decidimos utilizar un RDD con un split por coma para cada elemento del CSV.\n",
        "\n",
        "Cargar el archivo como un Resilient Distributed Dataset (RDD) nos permite manipular el contenido del archivo a un nivel más bajo que utilizando un DataFrame. Esto puede ser útil cuando el archivo tiene problemas de formato, como es nuestro caso actual.\n",
        "\n",
        "Es importante tener en cuenta que al convertir el archivo CSV en un TXT y usar un split por \",\", este método podría no ser útil si la información incluye campos como \"observaciones\" u otros tipos de contenido que puedan contener comas."
      ],
      "metadata": {
        "id": "WTokoqarSE-r"
      }
    },
    {
      "cell_type": "code",
      "source": [
        "from pyspark.sql import SparkSession\n",
        "from pyspark.sql import Row\n",
        "\n",
        "# Iniciar una sesión de Spark\n",
        "spark = SparkSession.builder.appName(\"LimpiezaDeDatos\").getOrCreate()\n",
        "\n",
        "# Ruta del archivo CSV\n",
        "ruta_archivo = \"/content/drive/MyDrive/Colab Notebooks/data/Copia de housing_fincaraiz.csv\"\n",
        "\n",
        "# Cargar el archivo como un RDD\n",
        "rdd = spark.sparkContext.textFile(ruta_archivo)\n",
        "\n",
        "# Separar el encabezado del resto de los datos\n",
        "encabezado = rdd.first()\n",
        "datos = rdd.filter(lambda x: x != encabezado)\n",
        "\n",
        "# Dividir el encabezado y las filas por comas\n",
        "columnas = encabezado.split(',')\n",
        "\n",
        "# Asegurarse de que la longitud de los nombres de las columnas coincide con la cantidad de datos en cada fila\n",
        "def parsear_fila(fila):\n",
        "    elementos = fila.split(',')\n",
        "    if len(elementos) == len(columnas):\n",
        "        return Row(*elementos)\n",
        "    else:\n",
        "        return None\n",
        "\n",
        "# Parsear las filas y filtrar las que no se pueden parsear correctamente\n",
        "filas_parsedas = datos.map(parsear_fila).filter(lambda x: x is not None)\n",
        "\n",
        "# Crear el DataFrame a partir del RDD\n",
        "df = spark.createDataFrame(filas_parsedas, schema=columnas)\n",
        "\n",
        "# Nuevos nombres de columnas\n",
        "nuevos_nombres_columnas = [\n",
        "    \"habitaciones\", \"baños\", \"parqueaderos\", \"area_construida\", \"area_privada\", \"estrato\",\n",
        "    \"estado\", \"antiguedad\", \"administracion\", \"precio_m2\", \"ascensor\", \"circuito_cerrado_de_TV\",\n",
        "    \"parqueadero_visitantes\", \"porteria_recepcion\", \"zonas_verdes\", \"salon_comunal\", \"balcon\",\n",
        "    \"barra_estilo_americano\", \"calentador\", \"chimenea\", \"citofono\", \"cocina_integral\", \"terraza\",\n",
        "    \"vigilancia\", \"parques_cercanos\", \"estudio\", \"patio\", \"deposito_bodega\", \"nombre\", \"ubicacion\", \"precio\"\n",
        "]\n",
        "\n",
        "# Validación de la cantidad de columnas\n",
        "if len(columnas) != len(nuevos_nombres_columnas):\n",
        "    print(\"The number of columns does not match. Adjust the new_column_names list.\")\n",
        "    print(f\"Original Columns ({len(columnas)}): {columnas}\")\n",
        "    print(f\"New Column Names ({len(nuevos_nombres_columnas)}): {nuevos_nombres_columnas}\")\n",
        "else:\n",
        "    # Renombrar las columnas del DataFrame\n",
        "    df = df.toDF(*nuevos_nombres_columnas)\n",
        "    # Mostrar todos los datos en forma de tabla\n",
        "    df.show(truncate=False)\n"
      ],
      "metadata": {
        "colab": {
          "base_uri": "https://localhost:8080/"
        },
        "id": "t50bgSLQN8Ex",
        "outputId": "3f6dd38d-8b2e-4baa-88e8-c8ad39c241d7"
      },
      "execution_count": 3,
      "outputs": [
        {
          "output_type": "stream",
          "name": "stdout",
          "text": [
            "+------------+-----+------------+---------------+------------+-------+-----------+--------------+---------------+--------------+--------+----------------------+----------------------+------------------+------------+-------------+------+----------------------+----------+--------+--------+---------------+-------+----------+----------------+-------+-----+---------------+-----------+--------------------+----------+\n",
            "|habitaciones|baños|parqueaderos|area_construida|area_privada|estrato|estado     |antiguedad    |administracion |precio_m2     |ascensor|circuito_cerrado_de_TV|parqueadero_visitantes|porteria_recepcion|zonas_verdes|salon_comunal|balcon|barra_estilo_americano|calentador|chimenea|citofono|cocina_integral|terraza|vigilancia|parques_cercanos|estudio|patio|deposito_bodega|nombre     |ubicacion           |precio    |\n",
            "+------------+-----+------------+---------------+------------+-------+-----------+--------------+---------------+--------------+--------+----------------------+----------------------+------------------+------------+-------------+------+----------------------+----------+--------+--------+---------------+-------+----------+----------------+-------+-----+---------------+-----------+--------------------+----------+\n",
            "|1           |2    |1           |50 m²          |0 m²        |5      |Bueno      |9 a 15 años   |$ 310.000 COP  |$ 6.800.000*m²|0       |0                     |0                     |1                 |0           |0            |1     |0                     |0         |0       |0       |1              |0      |0         |0               |0      |0    |1              |Apartamento|Contador            |340000000 |\n",
            "|4           |3    |1           |90 m²          |0 m²        |4      |Bueno      |más de 30 años|$ 369.000 COP  |$ 4.000.000*m²|1       |0                     |1                     |1                 |0           |1            |0     |0                     |1         |1       |1       |1              |1      |0         |0               |0      |0    |1              |Apartamento|Cedro Golf          |360000000 |\n",
            "|2           |3    |4           |322 m²         |277 m²      |6      |No definida|1 a 8 años    |$ 2.304.000 COP|$ 9.000.000*m²|1       |1                     |0                     |0                 |0           |0            |1     |0                     |1         |1       |1       |0              |0      |0         |0               |0      |0    |0              |Apartamento|Los Rosales         |2898000000|\n",
            "|2           |2    |1           |75 m²          |75 m²       |4      |Excelente  |16 a 30 años  |$ 316.000 COP  |$ 4.200.000*m²|0       |0                     |1                     |1                 |0           |1            |0     |0                     |1         |1       |1       |1              |0      |1         |0               |0      |0    |0              |Apartamento|Mazurén             |315000000 |\n",
            "|3           |2    |1           |100 m²         |100 m²      |5      |Bueno      |16 a 30 años  |$ 440.000 COP  |$ 5.000.000*m²|1       |1                     |0                     |0                 |0           |0            |1     |0                     |1         |0       |1       |1              |0      |0         |0               |1      |0    |1              |Apartamento|Colina Campestre    |500000000 |\n",
            "|3           |2    |1           |120 m²         |120 m²      |3      |Bueno      |16 a 30 años  |$ 195.000 COP  |$ 2.750.000*m²|0       |1                     |1                     |0                 |0           |1            |0     |0                     |1         |0       |1       |1              |0      |0         |0               |0      |1    |0              |Casa       |Nuevo Techo         |330000000 |\n",
            "|2           |2    |1           |80 m²          |80 m²       |6      |Excelente  |16 a 30 años  |$ 890.000 COP  |$ 7.437.500*m²|1       |0                     |0                     |1                 |0           |0            |0     |0                     |1         |1       |1       |1              |0      |1         |0               |0      |0    |1              |Apartamento|El Virrey           |595000000 |\n",
            "|5           |3    |2           |200 m²         |0 m²        |3      |No definida|16 a 30 años  |No definida    |$ 3.750.000*m²|0       |0                     |0                     |0                 |0           |0            |0     |0                     |0         |0       |0       |0              |0      |0         |0               |0      |0    |0              |Casa       |Paris gaitan        |750000000 |\n",
            "|3           |2    |0           |55 m²          |50 m²       |3      |Excelente  |9 a 15 años   |$ 109.000 COP  |$ 4.000.000*m²|0       |1                     |1                     |1                 |0           |1            |0     |0                     |1         |0       |1       |1              |0      |0         |0               |0      |1    |0              |Apartamento|Zona Noroccidente   |220000000 |\n",
            "|11          |6    |2           |320 m²         |320 m²      |3      |Bueno      |16 a 30 años  |No definida    |$ 2.187.500*m²|0       |0                     |0                     |0                 |0           |0            |0     |0                     |0         |0       |0       |0              |0      |0         |1               |1      |1    |1              |Casa       |Santa Rita          |700000000 |\n",
            "|4           |3    |2           |120 m²         |110 m²      |5      |Excelente  |16 a 30 años  |$ 500.000 COP  |$ 3.332.500*m²|0       |0                     |0                     |0                 |0           |0            |0     |0                     |0         |0       |0       |0              |0      |0         |0               |0      |0    |0              |Apartamento|Bella suiza         |399900000 |\n",
            "|1           |1    |1           |40 m²          |40 m²       |3      |Bueno      |16 a 30 años  |$ 141.000 COP  |$ 7.000.000*m²|0       |0                     |0                     |1                 |0           |0            |0     |0                     |0         |0       |1       |1              |0      |1         |1               |0      |0    |0              |Apartamento|zona centro         |280000000 |\n",
            "|5           |3    |1           |200 m²         |160 m²      |4      |Bueno      |más de 30 años|No definida    |$ 3.500.000*m²|0       |0                     |0                     |0                 |0           |0            |0     |0                     |0         |0       |0       |1              |0      |0         |1               |0      |0    |0              |Casa       |Palermo             |700000000 |\n",
            "|3           |3    |1           |75 m²          |67 m²       |4      |Bueno      |9 a 15 años   |$ 260.000 COP  |$ 4.600.000*m²|1       |1                     |1                     |0                 |0           |0            |0     |0                     |1         |0       |1       |1              |0      |0         |0               |1      |0    |0              |Apartamento|Villa alsacia       |345000000 |\n",
            "|3           |2    |0           |55 m²          |50 m²       |3      |Excelente  |9 a 15 años   |$ 109.000 COP  |$ 4.000.000*m²|0       |1                     |1                     |1                 |0           |1            |0     |0                     |1         |0       |1       |1              |0      |0         |0               |0      |1    |0              |Apartamento|Zona Noroccidente   |220000000 |\n",
            "|4           |5    |4           |200 m²         |0 m²        |5      |Excelente  |1 a 8 años    |$ 1.000.000 COP|$ 4.900.000*m²|1       |1                     |1                     |1                 |0           |0            |1     |1                     |1         |1       |1       |0              |0      |0         |0               |0      |0    |0              |Apartamento|Cedritos            |980000000 |\n",
            "|4           |3    |1           |90 m²          |0 m²        |4      |Bueno      |más de 30 años|$ 369.000 COP  |$ 4.000.000*m²|1       |0                     |1                     |1                 |0           |1            |0     |0                     |1         |1       |1       |1              |1      |0         |0               |0      |0    |1              |Apartamento|Cedro Golf          |360000000 |\n",
            "|3           |2    |0           |60 m²          |60 m²       |3      |Bueno      |9 a 15 años   |$ 130.000 COP  |$ 3.800.000*m²|1       |1                     |0                     |1                 |0           |1            |1     |0                     |1         |0       |1       |1              |0      |0         |0               |0      |0    |0              |Apartamento|Primavera Occidental|228000000 |\n",
            "|8           |5    |0           |500 m²         |0 m²        |3      |Excelente  |9 a 15 años   |No definida    |$ 3.400.000*m²|0       |1                     |0                     |0                 |0           |0            |0     |0                     |0         |0       |0       |1              |1      |0         |0               |0      |0    |1              |Casa       |Los Cerezos         |1700000000|\n",
            "|4           |4    |2           |136 m²         |128 m²      |4      |Excelente  |1 a 8 años    |$ 410.000 COP  |$ 6.250.000*m²|1       |1                     |1                     |0                 |0           |0            |1     |0                     |1         |1       |1       |0              |0      |0         |0               |0      |0    |0              |Apartamento|Mazurén             |850000000 |\n",
            "+------------+-----+------------+---------------+------------+-------+-----------+--------------+---------------+--------------+--------+----------------------+----------------------+------------------+------------+-------------+------+----------------------+----------+--------+--------+---------------+-------+----------+----------------+-------+-----+---------------+-----------+--------------------+----------+\n",
            "only showing top 20 rows\n",
            "\n"
          ]
        }
      ]
    },
    {
      "cell_type": "code",
      "source": [
        "from pyspark.sql.functions import col, regexp_replace, lower\n",
        "import unicodedata\n",
        "\n",
        "# Limpiar espacios en blanco al final y convertir a minúsculas\n",
        "df_cleaned = df.select([\n",
        "    lower(regexp_replace(col(column), '\\s+$', '')).alias(column) for column in df.columns\n",
        "])\n",
        "\n",
        "# Aplicar limpieza específica para las columnas de precios y áreas\n",
        "df_cleaned = df_cleaned.withColumn('precio_m2', regexp_replace('precio_m2', '[^\\d]', ''))\n",
        "df_cleaned = df_cleaned.withColumn('administracion', regexp_replace('administracion', '[^\\d]', ''))\n",
        "df_cleaned = df_cleaned.withColumn('precio', regexp_replace('precio', '[^\\d]', ''))\n",
        "\n",
        "# Convertir las columnas de áreas a números eliminando el indicador de m²\n",
        "df_cleaned = df_cleaned.withColumn('area_construida', regexp_replace('area_construida', '[^\\d]', ''))\n",
        "df_cleaned = df_cleaned.withColumn('area_privada', regexp_replace('area_privada', '[^\\d]', ''))\n",
        "\n",
        "# Mostrar la tabla limpia\n",
        "df_cleaned.show(truncate=False)\n"
      ],
      "metadata": {
        "id": "0lowfMVjWf7I",
        "outputId": "50912636-2e54-4779-a0ae-44dc2f9197ea",
        "colab": {
          "base_uri": "https://localhost:8080/"
        }
      },
      "execution_count": 8,
      "outputs": [
        {
          "output_type": "stream",
          "name": "stdout",
          "text": [
            "+------------+-----+------------+---------------+------------+-------+-----------+--------------+--------------+---------+--------+----------------------+----------------------+------------------+------------+-------------+------+----------------------+----------+--------+--------+---------------+-------+----------+----------------+-------+-----+---------------+-----------+--------------------+----------+\n",
            "|habitaciones|baños|parqueaderos|area_construida|area_privada|estrato|estado     |antiguedad    |administracion|precio_m2|ascensor|circuito_cerrado_de_TV|parqueadero_visitantes|porteria_recepcion|zonas_verdes|salon_comunal|balcon|barra_estilo_americano|calentador|chimenea|citofono|cocina_integral|terraza|vigilancia|parques_cercanos|estudio|patio|deposito_bodega|nombre     |ubicacion           |precio    |\n",
            "+------------+-----+------------+---------------+------------+-------+-----------+--------------+--------------+---------+--------+----------------------+----------------------+------------------+------------+-------------+------+----------------------+----------+--------+--------+---------------+-------+----------+----------------+-------+-----+---------------+-----------+--------------------+----------+\n",
            "|1           |2    |1           |50             |0           |5      |bueno      |9 a 15 años   |310000        |6800000  |0       |0                     |0                     |1                 |0           |0            |1     |0                     |0         |0       |0       |1              |0      |0         |0               |0      |0    |1              |apartamento|contador            |340000000 |\n",
            "|4           |3    |1           |90             |0           |4      |bueno      |más de 30 años|369000        |4000000  |1       |0                     |1                     |1                 |0           |1            |0     |0                     |1         |1       |1       |1              |1      |0         |0               |0      |0    |1              |apartamento|cedro golf          |360000000 |\n",
            "|2           |3    |4           |322            |277         |6      |no definida|1 a 8 años    |2304000       |9000000  |1       |1                     |0                     |0                 |0           |0            |1     |0                     |1         |1       |1       |0              |0      |0         |0               |0      |0    |0              |apartamento|los rosales         |2898000000|\n",
            "|2           |2    |1           |75             |75          |4      |excelente  |16 a 30 años  |316000        |4200000  |0       |0                     |1                     |1                 |0           |1            |0     |0                     |1         |1       |1       |1              |0      |1         |0               |0      |0    |0              |apartamento|mazurén             |315000000 |\n",
            "|3           |2    |1           |100            |100         |5      |bueno      |16 a 30 años  |440000        |5000000  |1       |1                     |0                     |0                 |0           |0            |1     |0                     |1         |0       |1       |1              |0      |0         |0               |1      |0    |1              |apartamento|colina campestre    |500000000 |\n",
            "|3           |2    |1           |120            |120         |3      |bueno      |16 a 30 años  |195000        |2750000  |0       |1                     |1                     |0                 |0           |1            |0     |0                     |1         |0       |1       |1              |0      |0         |0               |0      |1    |0              |casa       |nuevo techo         |330000000 |\n",
            "|2           |2    |1           |80             |80          |6      |excelente  |16 a 30 años  |890000        |7437500  |1       |0                     |0                     |1                 |0           |0            |0     |0                     |1         |1       |1       |1              |0      |1         |0               |0      |0    |1              |apartamento|el virrey           |595000000 |\n",
            "|5           |3    |2           |200            |0           |3      |no definida|16 a 30 años  |              |3750000  |0       |0                     |0                     |0                 |0           |0            |0     |0                     |0         |0       |0       |0              |0      |0         |0               |0      |0    |0              |casa       |paris gaitan        |750000000 |\n",
            "|3           |2    |0           |55             |50          |3      |excelente  |9 a 15 años   |109000        |4000000  |0       |1                     |1                     |1                 |0           |1            |0     |0                     |1         |0       |1       |1              |0      |0         |0               |0      |1    |0              |apartamento|zona noroccidente   |220000000 |\n",
            "|11          |6    |2           |320            |320         |3      |bueno      |16 a 30 años  |              |2187500  |0       |0                     |0                     |0                 |0           |0            |0     |0                     |0         |0       |0       |0              |0      |0         |1               |1      |1    |1              |casa       |santa rita          |700000000 |\n",
            "|4           |3    |2           |120            |110         |5      |excelente  |16 a 30 años  |500000        |3332500  |0       |0                     |0                     |0                 |0           |0            |0     |0                     |0         |0       |0       |0              |0      |0         |0               |0      |0    |0              |apartamento|bella suiza         |399900000 |\n",
            "|1           |1    |1           |40             |40          |3      |bueno      |16 a 30 años  |141000        |7000000  |0       |0                     |0                     |1                 |0           |0            |0     |0                     |0         |0       |1       |1              |0      |1         |1               |0      |0    |0              |apartamento|zona centro         |280000000 |\n",
            "|5           |3    |1           |200            |160         |4      |bueno      |más de 30 años|              |3500000  |0       |0                     |0                     |0                 |0           |0            |0     |0                     |0         |0       |0       |1              |0      |0         |1               |0      |0    |0              |casa       |palermo             |700000000 |\n",
            "|3           |3    |1           |75             |67          |4      |bueno      |9 a 15 años   |260000        |4600000  |1       |1                     |1                     |0                 |0           |0            |0     |0                     |1         |0       |1       |1              |0      |0         |0               |1      |0    |0              |apartamento|villa alsacia       |345000000 |\n",
            "|3           |2    |0           |55             |50          |3      |excelente  |9 a 15 años   |109000        |4000000  |0       |1                     |1                     |1                 |0           |1            |0     |0                     |1         |0       |1       |1              |0      |0         |0               |0      |1    |0              |apartamento|zona noroccidente   |220000000 |\n",
            "|4           |5    |4           |200            |0           |5      |excelente  |1 a 8 años    |1000000       |4900000  |1       |1                     |1                     |1                 |0           |0            |1     |1                     |1         |1       |1       |0              |0      |0         |0               |0      |0    |0              |apartamento|cedritos            |980000000 |\n",
            "|4           |3    |1           |90             |0           |4      |bueno      |más de 30 años|369000        |4000000  |1       |0                     |1                     |1                 |0           |1            |0     |0                     |1         |1       |1       |1              |1      |0         |0               |0      |0    |1              |apartamento|cedro golf          |360000000 |\n",
            "|3           |2    |0           |60             |60          |3      |bueno      |9 a 15 años   |130000        |3800000  |1       |1                     |0                     |1                 |0           |1            |1     |0                     |1         |0       |1       |1              |0      |0         |0               |0      |0    |0              |apartamento|primavera occidental|228000000 |\n",
            "|8           |5    |0           |500            |0           |3      |excelente  |9 a 15 años   |              |3400000  |0       |1                     |0                     |0                 |0           |0            |0     |0                     |0         |0       |0       |1              |1      |0         |0               |0      |0    |1              |casa       |los cerezos         |1700000000|\n",
            "|4           |4    |2           |136            |128         |4      |excelente  |1 a 8 años    |410000        |6250000  |1       |1                     |1                     |0                 |0           |0            |1     |0                     |1         |1       |1       |0              |0      |0         |0               |0      |0    |0              |apartamento|mazurén             |850000000 |\n",
            "+------------+-----+------------+---------------+------------+-------+-----------+--------------+--------------+---------+--------+----------------------+----------------------+------------------+------------+-------------+------+----------------------+----------+--------+--------+---------------+-------+----------+----------------+-------+-----+---------------+-----------+--------------------+----------+\n",
            "only showing top 20 rows\n",
            "\n"
          ]
        }
      ]
    }
  ]
}