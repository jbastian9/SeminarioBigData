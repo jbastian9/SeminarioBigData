{
  "nbformat": 4,
  "nbformat_minor": 0,
  "metadata": {
    "colab": {
      "provenance": [],
      "authorship_tag": "ABX9TyPUEzKuEqbDI7q27EcmJlrL",
      "include_colab_link": true
    },
    "kernelspec": {
      "name": "python3",
      "display_name": "Python 3"
    },
    "language_info": {
      "name": "python"
    }
  },
  "cells": [
    {
      "cell_type": "markdown",
      "metadata": {
        "id": "view-in-github",
        "colab_type": "text"
      },
      "source": [
        "<a href=\"https://colab.research.google.com/github/jbastian9/SeminarioBigData/blob/main/Lab2BD.ipynb\" target=\"_parent\"><img src=\"https://colab.research.google.com/assets/colab-badge.svg\" alt=\"Open In Colab\"/></a>"
      ]
    },
    {
      "cell_type": "markdown",
      "source": [
        "# **Informe Comparación Librerías: Pandas, Polars, Spark, Dask.**\n",
        "---\n",
        "## Conexión Google Drive\n",
        "\n",
        "Se conecta a google drive para obtener los archivo .parquet y poder compararlos con las diversas librerias.\n",
        "\n",
        "![Anexo1](https://drive.usercontent.google.com/download?id=19jupX750zzO24e7TW0-UlZ1rabe19e8f&export=download&authuser=0&confirm=t&uuid=9f2bbf03-d0d7-4506-9ac9-648a921b5507&at=APZUnTUV55iUXoLsIzQ0CAbQ9Y9-:1718907724846)\n",
        "---\n",
        "\n",
        "## Análisis de la Librería Pandas\n",
        "\n",
        "* Al cargar los 4 archivos, en solo el proceso de carga se consume la RAM de Google Colab, motivo por el cual reinicia el entorno.\n",
        "\n",
        "![Anexo2](https://drive.usercontent.google.com/download?id=1D3Yn0o-jdifjgVZ3KabzubljwEBICp4x&export=download&authuser=0&confirm=t&uuid=115ebb64-9b7f-4f0f-afc4-8c7387e8cdd7&at=APZUnTUZQbwIaqMI9P6wnatrPFcK:1718907791081)\n",
        "\n",
        "* Al probar con los archivos de 2019 y 2020, los recursos de Google Colab dan para la carga de estos, pero al intentar concatenarlos, colapsa el entorno.\n",
        "\n",
        "![Anexo3](https://drive.usercontent.google.com/download?id=1USeWx_MaXKJvz2FUJdOuH59ES68KOYnz&export=download&authuser=0&confirm=t&uuid=9771c7f2-da5f-4e7f-bc6e-09ec599d399e&at=APZUnTUDTDZZIrztyIYPSUzJWYNQ:1718907921869)\n",
        "\n",
        "* Al probar con los archivos de 2020 y 2022, que son los de menor tamaño entre los 4 archivos, sí permitió la carga y la concatenación.\n",
        "\n",
        "![Anexo4](https://drive.usercontent.google.com/download?id=15dn3UjHlCjEDHw8ro_WCMnF_POnaObKX&export=download&authuser=0&confirm=t&uuid=e0297305-6164-4e36-bb4c-b9ac723f8681&at=APZUnTW8YJk-ncpgvonvDuGxhQCO:1718908044686)\n",
        "![Anexo4.1](https://drive.usercontent.google.com/download?id=1wFEkitcyB1zaJlUKvh2SAt232fOJ-XcP&export=download&authuser=0&confirm=t&uuid=8ff47292-c4cd-4e4c-bb92-5a153d68990e&at=APZUnTUq51WGh9EJTByiRB9upyFs:1718908086778)\n",
        "![Anexo4.2](https://drive.usercontent.google.com/download?id=1Ln0G5fc3EOJl8hmdEVuUT01qAdy-wm10&export=download&authuser=0&confirm=t&uuid=b5c7bb99-7c99-41d5-86f8-423d56f1ec01&at=APZUnTVxe9w8PIonIiS1z9R50ckZ:1718908110570)\n",
        "---\n",
        "\n",
        "## Análisis de la Librería Polars\n",
        "\n",
        "* Al cargar los 4 archivos, en solo el proceso de carga se consume la RAM de Google Colab, motivo por el cual reinicia el entorno.\n",
        "\n",
        "![Anexo5](https://drive.usercontent.google.com/download?id=1GefUa2rMv0Fimwb09WnNiPIKHPNZQrG6&export=download&authuser=0&confirm=t&uuid=9d385b67-0973-4620-9d80-75d135933a94&at=APZUnTVyiJUclIUd_GpPRVkp-6pV:1718908224262)\n",
        "\n",
        "* Al probar con los archivos de 2019 y 2020, los recursos de Google Colab dan para la carga de estos, pero al intentar concatenarlos, surge un error en el tipo de dato almacenado en las columnas, especificamente en las penultimas columnas de estos dos archivos, dando a entender que Polars es mas extricto con el typo de dato que Pandas, se concatenaron para igualar los tipos de datos de las columnas pero al momento de concatenarlos se colapso el entorno.\n",
        "\n",
        "![Anexo6](https://drive.usercontent.google.com/download?id=1kRe7Ny8QKmkqLw7EZTfoofT6gQGrvlM4&export=download&authuser=0&confirm=t&uuid=e698d954-e6f1-47a0-a27b-55600c6f0cb4&at=APZUnTUVVyPdMzdJJGLtl1pFjsWe:1718908287393)\n",
        "![Anexo6.1](https://drive.usercontent.google.com/download?id=1ufVDXySLjuwQ2-4A1x9dgjXhLjZ51Let&export=download&authuser=0&confirm=t&uuid=2a376b1d-fd34-4fdb-b53d-674ff21e4445&at=APZUnTWRpg8-mr62zwWlsAyLiJe1:1718908392649)\n",
        "\n",
        "* Al probar con los archivos de 2020(es el que tiene la penultima columna con un valor diferente) y 2022, que son los de menor tamaño entre los 4 archivos, sí permitió la carga y la concatenación, luego de ajustar un error de escritura en la clausula group_by.\n",
        "\n",
        "![Anexo7](https://drive.usercontent.google.com/download?id=185RYeVPW7aAMuJxIuuhfbZe5iiYxSrf1&export=download&authuser=0&confirm=t&uuid=7d54227a-5e37-4dae-9287-e06bda0ed113&at=APZUnTU_rTMY-EArqKnCE4vz1goI:1718908675749)\n",
        "\n",
        "---\n",
        "\n",
        "## Análisis de la Librería\n",
        "\n",
        "Recomendaciones basadas en los hallazgos del informe.\n",
        "\n",
        "---\n",
        "\n",
        "## Análisis de la Librería\n",
        "\n",
        "\n",
        "---\n",
        "\n",
        "## Contacto\n",
        "\n",
        "Información de contacto para más detalles.\n",
        "\n"
      ],
      "metadata": {
        "id": "cZQoCu3N8qER"
      }
    },
    {
      "cell_type": "code",
      "source": [],
      "metadata": {
        "id": "rnpht7TTVwuy"
      },
      "execution_count": null,
      "outputs": []
    }
  ]
}