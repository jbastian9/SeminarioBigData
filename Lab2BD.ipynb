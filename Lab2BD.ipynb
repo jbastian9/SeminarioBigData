{
  "nbformat": 4,
  "nbformat_minor": 0,
  "metadata": {
    "colab": {
      "provenance": [],
      "authorship_tag": "ABX9TyPkQoPLuQI71/jQRS5mR7sF",
      "include_colab_link": true
    },
    "kernelspec": {
      "name": "python3",
      "display_name": "Python 3"
    },
    "language_info": {
      "name": "python"
    }
  },
  "cells": [
    {
      "cell_type": "markdown",
      "metadata": {
        "id": "view-in-github",
        "colab_type": "text"
      },
      "source": [
        "<a href=\"https://colab.research.google.com/github/jbastian9/SeminarioBigData/blob/main/Lab2BD.ipynb\" target=\"_parent\"><img src=\"https://colab.research.google.com/assets/colab-badge.svg\" alt=\"Open In Colab\"/></a>"
      ]
    },
    {
      "cell_type": "markdown",
      "source": [
        "# Informe Comparación Librerías: Pandas, Polars, Spark, Dask.\n",
        "\n",
        "---\n",
        "\n",
        "## Conexión Google Drive\n",
        "\n",
        "Se conecta a google drive para obtener los archivo .parquet y poder compararlos con las diversas librerias.\n",
        "\n",
        "![Anexo1](https://drive.usercontent.google.com/download?id=1oWjf3kh59PsWSZBiYhy06MDbbqZu-kIo&export=download&authuser=0&confirm=t&uuid=a387b7a2-bf36-49c4-b049-1349806abd70&at=APZUnTXzcpXlRBzbFhbvYk2prVKL:1718842255318g)\n",
        "---\n",
        "\n",
        "## Análisis de la Librería Pandas\n",
        "\n",
        "* Al cargar los 4 archivos, en solo el proceso de carga se consume la RAM de Google Colab, motivo por el cual reinicia el entorno. (img 2)\n",
        "* Al probar con los archivos de 2019 y 2020, los recursos de Google Colab dan para la carga de estos, pero al intentar concatenarlos, colapsa el entorno. (img 3)\n",
        "* Al probar con los archivos de 2020 y 2022, que son los de menor tamaño entre los 4 archivos, sí permitió la carga y la concatenación. (img 4, 4.1, 4.2)\n",
        "---\n",
        "\n",
        "## Análisis de la Librería Polars\n",
        "\n",
        "* Al cargar los 4 archivos, en solo el proceso de carga se consume la RAM de Google Colab, motivo por el cual reinicia el entorno. (img 5)\n",
        "* Al probar con los archivos de 2019 y 2020, los recursos de Google Colab dan para la carga de estos, pero al intentar concatenarlos, surge un error en el tipo de dato almacenado en las columnas especificamente en las penultimas columnas de estos dos archivos, se concatenaron para igualar los tipos de datos de las columnas pero al momento de concatenarlos se colapso el entorno. (img 6,6.1)\n",
        "* Al probar con los archivos de 2020(es el que tiene la penultima columna con un valor diferente) y 2022, que son los de menor tamaño entre los 4 archivos, sí permitió la carga y la concatenación. (img 4, 4.1, 4.2)\n",
        "\n",
        "---\n",
        "\n",
        "## Análisis de la Librería\n",
        "\n",
        "Recomendaciones basadas en los hallazgos del informe.\n",
        "\n",
        "---\n",
        "\n",
        "## Análisis de la Librería\n",
        "\n",
        "\n",
        "---\n",
        "\n",
        "## Contacto\n",
        "\n",
        "Información de contacto para más detalles.\n",
        "\n"
      ],
      "metadata": {
        "id": "cZQoCu3N8qER"
      }
    },
    {
      "cell_type": "code",
      "source": [],
      "metadata": {
        "id": "rnpht7TTVwuy"
      },
      "execution_count": null,
      "outputs": []
    }
  ]
}