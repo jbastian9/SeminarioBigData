{
  "nbformat": 4,
  "nbformat_minor": 0,
  "metadata": {
    "colab": {
      "provenance": [],
      "include_colab_link": true
    },
    "kernelspec": {
      "name": "python3",
      "display_name": "Python 3"
    },
    "language_info": {
      "name": "python"
    }
  },
  "cells": [
    {
      "cell_type": "markdown",
      "metadata": {
        "id": "view-in-github",
        "colab_type": "text"
      },
      "source": [
        "<a href=\"https://colab.research.google.com/github/jbastian9/SeminarioBigData/blob/main/Copia_de_Sentiment_Analysis.ipynb\" target=\"_parent\"><img src=\"https://colab.research.google.com/assets/colab-badge.svg\" alt=\"Open In Colab\"/></a>"
      ]
    },
    {
      "cell_type": "code",
      "source": [
        "from google.colab import drive\n",
        "drive.mount('/content/drive')"
      ],
      "metadata": {
        "colab": {
          "base_uri": "https://localhost:8080/"
        },
        "id": "DvSkLy3kNEqx",
        "outputId": "439d991f-ce84-4ab7-8f26-c0a5e75f5b7e"
      },
      "execution_count": 1,
      "outputs": [
        {
          "output_type": "stream",
          "name": "stdout",
          "text": [
            "Drive already mounted at /content/drive; to attempt to forcibly remount, call drive.mount(\"/content/drive\", force_remount=True).\n"
          ]
        }
      ]
    },
    {
      "cell_type": "code",
      "execution_count": 2,
      "metadata": {
        "colab": {
          "base_uri": "https://localhost:8080/"
        },
        "id": "BpFKW7gpMbm3",
        "outputId": "4b12ccbb-db18-40fe-9f12-2ef41c8916fd"
      },
      "outputs": [
        {
          "output_type": "stream",
          "name": "stdout",
          "text": [
            "Requirement already satisfied: pandas in /usr/local/lib/python3.10/dist-packages (2.0.3)\n",
            "Requirement already satisfied: openpyxl in /usr/local/lib/python3.10/dist-packages (3.1.4)\n",
            "Requirement already satisfied: textblob in /usr/local/lib/python3.10/dist-packages (0.17.1)\n",
            "Requirement already satisfied: nltk in /usr/local/lib/python3.10/dist-packages (3.8.1)\n",
            "Requirement already satisfied: python-dateutil>=2.8.2 in /usr/local/lib/python3.10/dist-packages (from pandas) (2.8.2)\n",
            "Requirement already satisfied: pytz>=2020.1 in /usr/local/lib/python3.10/dist-packages (from pandas) (2023.4)\n",
            "Requirement already satisfied: tzdata>=2022.1 in /usr/local/lib/python3.10/dist-packages (from pandas) (2024.1)\n",
            "Requirement already satisfied: numpy>=1.21.0 in /usr/local/lib/python3.10/dist-packages (from pandas) (1.25.2)\n",
            "Requirement already satisfied: et-xmlfile in /usr/local/lib/python3.10/dist-packages (from openpyxl) (1.1.0)\n",
            "Requirement already satisfied: click in /usr/local/lib/python3.10/dist-packages (from nltk) (8.1.7)\n",
            "Requirement already satisfied: joblib in /usr/local/lib/python3.10/dist-packages (from nltk) (1.4.2)\n",
            "Requirement already satisfied: regex>=2021.8.3 in /usr/local/lib/python3.10/dist-packages (from nltk) (2024.5.15)\n",
            "Requirement already satisfied: tqdm in /usr/local/lib/python3.10/dist-packages (from nltk) (4.66.4)\n",
            "Requirement already satisfied: six>=1.5 in /usr/local/lib/python3.10/dist-packages (from python-dateutil>=2.8.2->pandas) (1.16.0)\n"
          ]
        }
      ],
      "source": [
        "# Instalación de las librerías necesarias\n",
        "!pip install pandas openpyxl textblob nltk"
      ]
    },
    {
      "cell_type": "code",
      "source": [
        "# Importación de las librerías\n",
        "import pandas as pd\n",
        "from textblob import TextBlob\n",
        "import nltk\n",
        "nltk.download('punkt')\n",
        "nltk.download('stopwords')"
      ],
      "metadata": {
        "colab": {
          "base_uri": "https://localhost:8080/"
        },
        "id": "tm-4cROljHOR",
        "outputId": "18228f72-9e2f-4572-a558-b27e3ee8d215"
      },
      "execution_count": 3,
      "outputs": [
        {
          "output_type": "stream",
          "name": "stderr",
          "text": [
            "[nltk_data] Downloading package punkt to /root/nltk_data...\n",
            "[nltk_data]   Package punkt is already up-to-date!\n",
            "[nltk_data] Downloading package stopwords to /root/nltk_data...\n",
            "[nltk_data]   Package stopwords is already up-to-date!\n"
          ]
        },
        {
          "output_type": "execute_result",
          "data": {
            "text/plain": [
              "True"
            ]
          },
          "metadata": {},
          "execution_count": 3
        }
      ]
    },
    {
      "cell_type": "code",
      "source": [
        "# Carga del archivo Excel\n",
        "noticias = pd.read_excel('/content/drive/MyDrive/Colab Notebooks/data/Copia de Noticias2ver.xlsx')\n",
        "\n",
        "# Asegurarte de que el archivo se ha cargado correctamente\n",
        "print(noticias.head())\n"
      ],
      "metadata": {
        "colab": {
          "base_uri": "https://localhost:8080/"
        },
        "id": "-b4n0R7yNKa8",
        "outputId": "c15dc4c9-f385-497e-e833-32cf297b1693"
      },
      "execution_count": 4,
      "outputs": [
        {
          "output_type": "stream",
          "name": "stdout",
          "text": [
            "   Columna1                                             Título  \\\n",
            "0         0  ¿Cómo potencializar las ventas de un emprendim...   \n",
            "1         1  Así apoyará Corea del Sur al país para enfrent...   \n",
            "2         2  Nanotecnología, una receta para cultivos más s...   \n",
            "3         3  Desorden de padres, causa de nueva jornada de ...   \n",
            "4         4  Senado, citado para el 13 de abril, cuando ter...   \n",
            "\n",
            "                                                info  \\\n",
            "0  La época de crisis de salud por coronavirus es...   \n",
            "1  El Presidente aseguró que ya le han devuelto e...   \n",
            "2  Los resultados están acompañados del llamado d...   \n",
            "3  Secretaría de Educación insiste en que se lleg...   \n",
            "4  Así lo anunció el presidente del Senado, Lidio...   \n",
            "\n",
            "                                           contenido                Tipo  \n",
            "0  En medio de la coyuntura ocasionada por la pro...            economia  \n",
            "1  Este jueves, en el noveno día de cuarentena na...  Politica y Opinion  \n",
            "2  Jenny Prieto y Álex Caro son una pareja de cul...          Variedades  \n",
            "3  Aunque la Secretaría de Educación les recomend...              bogota  \n",
            "4  El presidente del Congreso, Lidio García, anun...  Politica y Opinion  \n"
          ]
        }
      ]
    },
    {
      "cell_type": "code",
      "source": [
        "# Extracción de la columna 'contenido'\n",
        "contenido = noticias['contenido'].dropna()  # Elimina filas sin datos\n",
        "\n",
        "# Limpieza de texto\n",
        "import re\n",
        "from nltk.corpus import stopwords\n",
        "\n",
        "def limpiar_texto(texto):\n",
        "    texto = re.sub(r'http\\S+|www\\S+|https\\S+', '', texto, flags=re.MULTILINE)\n",
        "    texto = re.sub(r'\\@w+|\\#','', texto)\n",
        "    texto = re.sub(r'[^\\w\\s]', '', texto)\n",
        "    texto = \" \".join(word for word in texto.split() if word not in stopwords.words('spanish'))\n",
        "    return texto\n",
        "\n",
        "# Aplicar la función de limpieza a cada texto\n",
        "noticias['contenido_limpio'] = contenido.apply(limpiar_texto)\n",
        "contenido_limpio = contenido.apply(limpiar_texto)\n"
      ],
      "metadata": {
        "id": "bu1O5wIRMciq"
      },
      "execution_count": 5,
      "outputs": []
    },
    {
      "cell_type": "code",
      "source": [
        "# Análisis de sentimiento usando TextBlob\n",
        "def analizar_sentimiento(texto):\n",
        "    analysis = TextBlob(texto)\n",
        "    if analysis.sentiment.polarity > 0:\n",
        "        return 'Positivo'\n",
        "    elif analysis.sentiment.polarity == 0:\n",
        "        return 'Neutral'\n",
        "    else:\n",
        "        return 'Negativo'\n",
        "\n",
        "# Aplicar análisis de sentimientos al contenido limpio\n",
        "sentimientos = contenido_limpio.apply(analizar_sentimiento)\n"
      ],
      "metadata": {
        "id": "vFf1GtCtMeRa"
      },
      "execution_count": 6,
      "outputs": []
    },
    {
      "cell_type": "code",
      "source": [
        "import matplotlib.pyplot as plt\n",
        "\n",
        "df_resultados = pd.DataFrame(list(zip(contenido_limpio, sentimientos)), columns=['Contenido', 'Sentimiento'])\n",
        "\n",
        "# Calcular porcentajes de cada tipo de sentimiento\n",
        "conteo_sentimientos = df_resultados['Sentimiento'].value_counts(normalize=True) * 100\n",
        "\n",
        "# Crear el gráfico\n",
        "plt.figure(figsize=(10, 6))\n",
        "\n",
        "# Ordenar los valores para un gráfico más claro\n",
        "conteo_sentimientos = conteo_sentimientos.sort_values(ascending=False)\n",
        "\n",
        "# Generar el gráfico de barras\n",
        "ax = conteo_sentimientos.plot(kind='bar', color=['skyblue', 'lightgreen', 'salmon'], edgecolor='black')\n",
        "\n",
        "# Agregar porcentajes en las barras\n",
        "for p in ax.patches:\n",
        "    ax.annotate(f'{p.get_height():.1f}%', (p.get_x() + p.get_width() / 2., p.get_height()), ha='center', va='center', fontsize=10, color='black', xytext=(0, 5), textcoords='offset points')\n",
        "\n",
        "# Configurar etiquetas y título\n",
        "plt.title('Distribución de Sentimientos en Contenido de Noticias')\n",
        "plt.xlabel('Sentimiento')\n",
        "plt.ylabel('Porcentaje del Total (%)')\n",
        "\n",
        "# Mostrar el gráfico\n",
        "plt.tight_layout()\n",
        "plt.show()\n",
        "\n"
      ],
      "metadata": {
        "colab": {
          "base_uri": "https://localhost:8080/",
          "height": 602
        },
        "id": "SEg4ZUX9Mh_K",
        "outputId": "6b450406-2dbb-4a59-de2b-f83fa5b79a7e"
      },
      "execution_count": 15,
      "outputs": [
        {
          "output_type": "display_data",
          "data": {
            "text/plain": [
              "<Figure size 1000x600 with 1 Axes>"
            ],
            "image/png": "[encoded data removed]"
          },
          "metadata": {}
        }
      ]
    },
    {
      "cell_type": "code",
      "source": [
        "!pip install pysentimiento"
      ],
      "metadata": {
        "colab": {
          "base_uri": "https://localhost:8080/"
        },
        "id": "vrSTO9l64oBK",
        "outputId": "d1d3074b-6ca5-4f43-8185-f4484ee01eeb"
      },
      "execution_count": 8,
      "outputs": [
        {
          "output_type": "stream",
          "name": "stdout",
          "text": [
            "Requirement already satisfied: pysentimiento in /usr/local/lib/python3.10/dist-packages (0.7.3)\n",
            "Requirement already satisfied: accelerate>=0.27.2 in /usr/local/lib/python3.10/dist-packages (from pysentimiento) (0.31.0)\n",
            "Requirement already satisfied: datasets>=2.10.1 in /usr/local/lib/python3.10/dist-packages (from pysentimiento) (2.20.0)\n",
            "Requirement already satisfied: emoji>=1.6.1 in /usr/local/lib/python3.10/dist-packages (from pysentimiento) (2.12.1)\n",
            "Requirement already satisfied: spacy>=3.5.0 in /usr/local/lib/python3.10/dist-packages (from pysentimiento) (3.7.5)\n",
            "Requirement already satisfied: torch!=2.0.1,>=2.0.0 in /usr/local/lib/python3.10/dist-packages (from pysentimiento) (2.3.0+cu121)\n",
            "Requirement already satisfied: transformers>=4.13.0 in /usr/local/lib/python3.10/dist-packages (from pysentimiento) (4.41.2)\n",
            "Requirement already satisfied: numpy>=1.17 in /usr/local/lib/python3.10/dist-packages (from accelerate>=0.27.2->pysentimiento) (1.25.2)\n",
            "Requirement already satisfied: packaging>=20.0 in /usr/local/lib/python3.10/dist-packages (from accelerate>=0.27.2->pysentimiento) (24.1)\n",
            "Requirement already satisfied: psutil in /usr/local/lib/python3.10/dist-packages (from accelerate>=0.27.2->pysentimiento) (5.9.5)\n",
            "Requirement already satisfied: pyyaml in /usr/local/lib/python3.10/dist-packages (from accelerate>=0.27.2->pysentimiento) (6.0.1)\n",
            "Requirement already satisfied: huggingface-hub in /usr/local/lib/python3.10/dist-packages (from accelerate>=0.27.2->pysentimiento) (0.23.4)\n",
            "Requirement already satisfied: safetensors>=0.3.1 in /usr/local/lib/python3.10/dist-packages (from accelerate>=0.27.2->pysentimiento) (0.4.3)\n",
            "Requirement already satisfied: filelock in /usr/local/lib/python3.10/dist-packages (from datasets>=2.10.1->pysentimiento) (3.15.4)\n",
            "Requirement already satisfied: pyarrow>=15.0.0 in /usr/local/lib/python3.10/dist-packages (from datasets>=2.10.1->pysentimiento) (16.1.0)\n",
            "Requirement already satisfied: pyarrow-hotfix in /usr/local/lib/python3.10/dist-packages (from datasets>=2.10.1->pysentimiento) (0.6)\n",
            "Requirement already satisfied: dill<0.3.9,>=0.3.0 in /usr/local/lib/python3.10/dist-packages (from datasets>=2.10.1->pysentimiento) (0.3.8)\n",
            "Requirement already satisfied: pandas in /usr/local/lib/python3.10/dist-packages (from datasets>=2.10.1->pysentimiento) (2.0.3)\n",
            "Requirement already satisfied: requests>=2.32.2 in /usr/local/lib/python3.10/dist-packages (from datasets>=2.10.1->pysentimiento) (2.32.3)\n",
            "Requirement already satisfied: tqdm>=4.66.3 in /usr/local/lib/python3.10/dist-packages (from datasets>=2.10.1->pysentimiento) (4.66.4)\n",
            "Requirement already satisfied: xxhash in /usr/local/lib/python3.10/dist-packages (from datasets>=2.10.1->pysentimiento) (3.4.1)\n",
            "Requirement already satisfied: multiprocess in /usr/local/lib/python3.10/dist-packages (from datasets>=2.10.1->pysentimiento) (0.70.16)\n",
            "Requirement already satisfied: fsspec[http]<=2024.5.0,>=2023.1.0 in /usr/local/lib/python3.10/dist-packages (from datasets>=2.10.1->pysentimiento) (2023.6.0)\n",
            "Requirement already satisfied: aiohttp in /usr/local/lib/python3.10/dist-packages (from datasets>=2.10.1->pysentimiento) (3.9.5)\n",
            "Requirement already satisfied: typing-extensions>=4.7.0 in /usr/local/lib/python3.10/dist-packages (from emoji>=1.6.1->pysentimiento) (4.12.2)\n",
            "Requirement already satisfied: spacy-legacy<3.1.0,>=3.0.11 in /usr/local/lib/python3.10/dist-packages (from spacy>=3.5.0->pysentimiento) (3.0.12)\n",
            "Requirement already satisfied: spacy-loggers<2.0.0,>=1.0.0 in /usr/local/lib/python3.10/dist-packages (from spacy>=3.5.0->pysentimiento) (1.0.5)\n",
            "Requirement already satisfied: murmurhash<1.1.0,>=0.28.0 in /usr/local/lib/python3.10/dist-packages (from spacy>=3.5.0->pysentimiento) (1.0.10)\n",
            "Requirement already satisfied: cymem<2.1.0,>=2.0.2 in /usr/local/lib/python3.10/dist-packages (from spacy>=3.5.0->pysentimiento) (2.0.8)\n",
            "Requirement already satisfied: preshed<3.1.0,>=3.0.2 in /usr/local/lib/python3.10/dist-packages (from spacy>=3.5.0->pysentimiento) (3.0.9)\n",
            "Requirement already satisfied: thinc<8.3.0,>=8.2.2 in /usr/local/lib/python3.10/dist-packages (from spacy>=3.5.0->pysentimiento) (8.2.5)\n",
            "Requirement already satisfied: wasabi<1.2.0,>=0.9.1 in /usr/local/lib/python3.10/dist-packages (from spacy>=3.5.0->pysentimiento) (1.1.3)\n",
            "Requirement already satisfied: srsly<3.0.0,>=2.4.3 in /usr/local/lib/python3.10/dist-packages (from spacy>=3.5.0->pysentimiento) (2.4.8)\n",
            "Requirement already satisfied: catalogue<2.1.0,>=2.0.6 in /usr/local/lib/python3.10/dist-packages (from spacy>=3.5.0->pysentimiento) (2.0.10)\n",
            "Requirement already satisfied: weasel<0.5.0,>=0.1.0 in /usr/local/lib/python3.10/dist-packages (from spacy>=3.5.0->pysentimiento) (0.4.1)\n",
            "Requirement already satisfied: typer<1.0.0,>=0.3.0 in /usr/local/lib/python3.10/dist-packages (from spacy>=3.5.0->pysentimiento) (0.12.3)\n",
            "Requirement already satisfied: pydantic!=1.8,!=1.8.1,<3.0.0,>=1.7.4 in /usr/local/lib/python3.10/dist-packages (from spacy>=3.5.0->pysentimiento) (2.7.4)\n",
            "Requirement already satisfied: jinja2 in /usr/local/lib/python3.10/dist-packages (from spacy>=3.5.0->pysentimiento) (3.1.4)\n",
            "Requirement already satisfied: setuptools in /usr/local/lib/python3.10/dist-packages (from spacy>=3.5.0->pysentimiento) (67.7.2)\n",
            "Requirement already satisfied: langcodes<4.0.0,>=3.2.0 in /usr/local/lib/python3.10/dist-packages (from spacy>=3.5.0->pysentimiento) (3.4.0)\n",
            "Requirement already satisfied: sympy in /usr/local/lib/python3.10/dist-packages (from torch!=2.0.1,>=2.0.0->pysentimiento) (1.12.1)\n",
            "Requirement already satisfied: networkx in /usr/local/lib/python3.10/dist-packages (from torch!=2.0.1,>=2.0.0->pysentimiento) (3.3)\n",
            "Requirement already satisfied: nvidia-cuda-nvrtc-cu12==12.1.105 in /usr/local/lib/python3.10/dist-packages (from torch!=2.0.1,>=2.0.0->pysentimiento) (12.1.105)\n",
            "Requirement already satisfied: nvidia-cuda-runtime-cu12==12.1.105 in /usr/local/lib/python3.10/dist-packages (from torch!=2.0.1,>=2.0.0->pysentimiento) (12.1.105)\n",
            "Requirement already satisfied: nvidia-cuda-cupti-cu12==12.1.105 in /usr/local/lib/python3.10/dist-packages (from torch!=2.0.1,>=2.0.0->pysentimiento) (12.1.105)\n",
            "Requirement already satisfied: nvidia-cudnn-cu12==8.9.2.26 in /usr/local/lib/python3.10/dist-packages (from torch!=2.0.1,>=2.0.0->pysentimiento) (8.9.2.26)\n",
            "Requirement already satisfied: nvidia-cublas-cu12==12.1.3.1 in /usr/local/lib/python3.10/dist-packages (from torch!=2.0.1,>=2.0.0->pysentimiento) (12.1.3.1)\n",
            "Requirement already satisfied: nvidia-cufft-cu12==11.0.2.54 in /usr/local/lib/python3.10/dist-packages (from torch!=2.0.1,>=2.0.0->pysentimiento) (11.0.2.54)\n",
            "Requirement already satisfied: nvidia-curand-cu12==10.3.2.106 in /usr/local/lib/python3.10/dist-packages (from torch!=2.0.1,>=2.0.0->pysentimiento) (10.3.2.106)\n",
            "Requirement already satisfied: nvidia-cusolver-cu12==11.4.5.107 in /usr/local/lib/python3.10/dist-packages (from torch!=2.0.1,>=2.0.0->pysentimiento) (11.4.5.107)\n",
            "Requirement already satisfied: nvidia-cusparse-cu12==12.1.0.106 in /usr/local/lib/python3.10/dist-packages (from torch!=2.0.1,>=2.0.0->pysentimiento) (12.1.0.106)\n",
            "Requirement already satisfied: nvidia-nccl-cu12==2.20.5 in /usr/local/lib/python3.10/dist-packages (from torch!=2.0.1,>=2.0.0->pysentimiento) (2.20.5)\n",
            "Requirement already satisfied: nvidia-nvtx-cu12==12.1.105 in /usr/local/lib/python3.10/dist-packages (from torch!=2.0.1,>=2.0.0->pysentimiento) (12.1.105)\n",
            "Requirement already satisfied: triton==2.3.0 in /usr/local/lib/python3.10/dist-packages (from torch!=2.0.1,>=2.0.0->pysentimiento) (2.3.0)\n",
            "Requirement already satisfied: nvidia-nvjitlink-cu12 in /usr/local/lib/python3.10/dist-packages (from nvidia-cusolver-cu12==11.4.5.107->torch!=2.0.1,>=2.0.0->pysentimiento) (12.5.82)\n",
            "Requirement already satisfied: regex!=2019.12.17 in /usr/local/lib/python3.10/dist-packages (from transformers>=4.13.0->pysentimiento) (2024.5.15)\n",
            "Requirement already satisfied: tokenizers<0.20,>=0.19 in /usr/local/lib/python3.10/dist-packages (from transformers>=4.13.0->pysentimiento) (0.19.1)\n",
            "Requirement already satisfied: aiosignal>=1.1.2 in /usr/local/lib/python3.10/dist-packages (from aiohttp->datasets>=2.10.1->pysentimiento) (1.3.1)\n",
            "Requirement already satisfied: attrs>=17.3.0 in /usr/local/lib/python3.10/dist-packages (from aiohttp->datasets>=2.10.1->pysentimiento) (23.2.0)\n",
            "Requirement already satisfied: frozenlist>=1.1.1 in /usr/local/lib/python3.10/dist-packages (from aiohttp->datasets>=2.10.1->pysentimiento) (1.4.1)\n",
            "Requirement already satisfied: multidict<7.0,>=4.5 in /usr/local/lib/python3.10/dist-packages (from aiohttp->datasets>=2.10.1->pysentimiento) (6.0.5)\n",
            "Requirement already satisfied: yarl<2.0,>=1.0 in /usr/local/lib/python3.10/dist-packages (from aiohttp->datasets>=2.10.1->pysentimiento) (1.9.4)\n",
            "Requirement already satisfied: async-timeout<5.0,>=4.0 in /usr/local/lib/python3.10/dist-packages (from aiohttp->datasets>=2.10.1->pysentimiento) (4.0.3)\n",
            "Requirement already satisfied: language-data>=1.2 in /usr/local/lib/python3.10/dist-packages (from langcodes<4.0.0,>=3.2.0->spacy>=3.5.0->pysentimiento) (1.2.0)\n",
            "Requirement already satisfied: annotated-types>=0.4.0 in /usr/local/lib/python3.10/dist-packages (from pydantic!=1.8,!=1.8.1,<3.0.0,>=1.7.4->spacy>=3.5.0->pysentimiento) (0.7.0)\n",
            "Requirement already satisfied: pydantic-core==2.18.4 in /usr/local/lib/python3.10/dist-packages (from pydantic!=1.8,!=1.8.1,<3.0.0,>=1.7.4->spacy>=3.5.0->pysentimiento) (2.18.4)\n",
            "Requirement already satisfied: charset-normalizer<4,>=2 in /usr/local/lib/python3.10/dist-packages (from requests>=2.32.2->datasets>=2.10.1->pysentimiento) (3.3.2)\n",
            "Requirement already satisfied: idna<4,>=2.5 in /usr/local/lib/python3.10/dist-packages (from requests>=2.32.2->datasets>=2.10.1->pysentimiento) (3.7)\n",
            "Requirement already satisfied: urllib3<3,>=1.21.1 in /usr/local/lib/python3.10/dist-packages (from requests>=2.32.2->datasets>=2.10.1->pysentimiento) (2.0.7)\n",
            "Requirement already satisfied: certifi>=2017.4.17 in /usr/local/lib/python3.10/dist-packages (from requests>=2.32.2->datasets>=2.10.1->pysentimiento) (2024.6.2)\n",
            "Requirement already satisfied: blis<0.8.0,>=0.7.8 in /usr/local/lib/python3.10/dist-packages (from thinc<8.3.0,>=8.2.2->spacy>=3.5.0->pysentimiento) (0.7.11)\n",
            "Requirement already satisfied: confection<1.0.0,>=0.0.1 in /usr/local/lib/python3.10/dist-packages (from thinc<8.3.0,>=8.2.2->spacy>=3.5.0->pysentimiento) (0.1.5)\n",
            "Requirement already satisfied: click>=8.0.0 in /usr/local/lib/python3.10/dist-packages (from typer<1.0.0,>=0.3.0->spacy>=3.5.0->pysentimiento) (8.1.7)\n",
            "Requirement already satisfied: shellingham>=1.3.0 in /usr/local/lib/python3.10/dist-packages (from typer<1.0.0,>=0.3.0->spacy>=3.5.0->pysentimiento) (1.5.4)\n",
            "Requirement already satisfied: rich>=10.11.0 in /usr/local/lib/python3.10/dist-packages (from typer<1.0.0,>=0.3.0->spacy>=3.5.0->pysentimiento) (13.7.1)\n",
            "Requirement already satisfied: cloudpathlib<1.0.0,>=0.7.0 in /usr/local/lib/python3.10/dist-packages (from weasel<0.5.0,>=0.1.0->spacy>=3.5.0->pysentimiento) (0.18.1)\n",
            "Requirement already satisfied: smart-open<8.0.0,>=5.2.1 in /usr/local/lib/python3.10/dist-packages (from weasel<0.5.0,>=0.1.0->spacy>=3.5.0->pysentimiento) (7.0.4)\n",
            "Requirement already satisfied: MarkupSafe>=2.0 in /usr/local/lib/python3.10/dist-packages (from jinja2->spacy>=3.5.0->pysentimiento) (2.1.5)\n",
            "Requirement already satisfied: python-dateutil>=2.8.2 in /usr/local/lib/python3.10/dist-packages (from pandas->datasets>=2.10.1->pysentimiento) (2.8.2)\n",
            "Requirement already satisfied: pytz>=2020.1 in /usr/local/lib/python3.10/dist-packages (from pandas->datasets>=2.10.1->pysentimiento) (2023.4)\n",
            "Requirement already satisfied: tzdata>=2022.1 in /usr/local/lib/python3.10/dist-packages (from pandas->datasets>=2.10.1->pysentimiento) (2024.1)\n",
            "Requirement already satisfied: mpmath<1.4.0,>=1.1.0 in /usr/local/lib/python3.10/dist-packages (from sympy->torch!=2.0.1,>=2.0.0->pysentimiento) (1.3.0)\n",
            "Requirement already satisfied: marisa-trie>=0.7.7 in /usr/local/lib/python3.10/dist-packages (from language-data>=1.2->langcodes<4.0.0,>=3.2.0->spacy>=3.5.0->pysentimiento) (1.2.0)\n",
            "Requirement already satisfied: six>=1.5 in /usr/local/lib/python3.10/dist-packages (from python-dateutil>=2.8.2->pandas->datasets>=2.10.1->pysentimiento) (1.16.0)\n",
            "Requirement already satisfied: markdown-it-py>=2.2.0 in /usr/local/lib/python3.10/dist-packages (from rich>=10.11.0->typer<1.0.0,>=0.3.0->spacy>=3.5.0->pysentimiento) (3.0.0)\n",
            "Requirement already satisfied: pygments<3.0.0,>=2.13.0 in /usr/local/lib/python3.10/dist-packages (from rich>=10.11.0->typer<1.0.0,>=0.3.0->spacy>=3.5.0->pysentimiento) (2.16.1)\n",
            "Requirement already satisfied: wrapt in /usr/local/lib/python3.10/dist-packages (from smart-open<8.0.0,>=5.2.1->weasel<0.5.0,>=0.1.0->spacy>=3.5.0->pysentimiento) (1.14.1)\n",
            "Requirement already satisfied: mdurl~=0.1 in /usr/local/lib/python3.10/dist-packages (from markdown-it-py>=2.2.0->rich>=10.11.0->typer<1.0.0,>=0.3.0->spacy>=3.5.0->pysentimiento) (0.1.2)\n"
          ]
        }
      ]
    },
    {
      "cell_type": "code",
      "source": [
        "from pysentimiento import create_analyzer\n",
        "import transformers\n",
        "\n",
        "# Configuración para no mostrar warnings de transformers\n",
        "transformers.logging.set_verbosity(transformers.logging.ERROR)\n",
        "\n",
        "# Crear un DataFrame para los resultados\n",
        "df_resultados = pd.DataFrame({\n",
        "    'Contenido': noticias['contenido_limpio'],\n",
        "    'Sentimiento_TextBlob': noticias['contenido_limpio'].apply(lambda texto: TextBlob(texto).sentiment.polarity),\n",
        "})"
      ],
      "metadata": {
        "id": "W9J-wKxx4sqJ"
      },
      "execution_count": 19,
      "outputs": []
    },
    {
      "cell_type": "code",
      "source": [
        "# Crear el analizador de emociones\n",
        "emotion_analyzer = create_analyzer(task=\"emotion\", lang=\"es\")\n",
        "\n",
        "# Función para analizar emociones en el contenido de noticias\n",
        "def analizar_emociones(texto):\n",
        "    result = emotion_analyzer.predict(texto)\n",
        "    return result\n",
        "\n",
        "# Aplicar análisis de emociones al contenido de noticias\n",
        "df_resultados['Analisis de Emociones'] = df_resultados['Contenido'].apply(analizar_emociones)\n",
        "\n",
        "# Visualizar los resultados por cada noticia\n",
        "print(df_resultados[['Contenido', 'Analisis de Emociones']])"
      ],
      "metadata": {
        "colab": {
          "base_uri": "https://localhost:8080/"
        },
        "id": "XyFnAvEBJjtl",
        "outputId": "2d641f0b-23f9-476b-c1e3-98f592bc9d95"
      },
      "execution_count": 20,
      "outputs": [
        {
          "output_type": "stream",
          "name": "stdout",
          "text": [
            "                                             Contenido  \\\n",
            "0    En medio coyuntura ocasionada propagación coro...   \n",
            "1    Este jueves noveno día cuarentena nacional pre...   \n",
            "2    Jenny Prieto Álex Caro pareja cultivadores Jen...   \n",
            "3    Aunque Secretaría Educación recomendó padres f...   \n",
            "4    El presidente Congreso Lidio García anunció pr...   \n",
            "..                                                 ...   \n",
            "970  Frente medidas preventivas dispuesto Gobierno ...   \n",
            "971  En agosto año pasado hombre 74 años presentó t...   \n",
            "972  El presidente Iván Duque aseguró entrevista Pr...   \n",
            "973  En vereda Santa Teresita zona rural municipio ...   \n",
            "974  La pandemia coronavirus dejó viernes crisis al...   \n",
            "\n",
            "                                 Analisis de Emociones  \n",
            "0    AnalyzerOutput(output=others, probas={others: ...  \n",
            "1    AnalyzerOutput(output=others, probas={others: ...  \n",
            "2    AnalyzerOutput(output=others, probas={others: ...  \n",
            "3    AnalyzerOutput(output=others, probas={others: ...  \n",
            "4    AnalyzerOutput(output=others, probas={others: ...  \n",
            "..                                                 ...  \n",
            "970  AnalyzerOutput(output=others, probas={others: ...  \n",
            "971  AnalyzerOutput(output=others, probas={others: ...  \n",
            "972  AnalyzerOutput(output=others, probas={others: ...  \n",
            "973  AnalyzerOutput(output=others, probas={others: ...  \n",
            "974  AnalyzerOutput(output=others, probas={others: ...  \n",
            "\n",
            "[975 rows x 2 columns]\n"
          ]
        }
      ]
    },
    {
      "cell_type": "code",
      "source": [
        "# Crear el analizador de discurso de odio\n",
        "hate_speech_analyzer = create_analyzer(task=\"hate_speech\", lang=\"es\")\n",
        "\n",
        "# Definir la función para analizar discurso de odio y obtener el formato deseado\n",
        "def analizar_discurso_odio(texto):\n",
        "    result = hate_speech_analyzer.predict(texto)\n",
        "    return f\"AnalyzerOutput(output={result.output}, probas={result.probas})\"\n",
        "\n",
        "# Aplicar análisis de discurso de odio al contenido de noticias\n",
        "df_resultados['Discurso de Odio'] = df_resultados['Contenido'].apply(analizar_discurso_odio)\n",
        "\n",
        "# Visualizar los resultados por cada noticia\n",
        "print(df_resultados[['Contenido', 'Discurso de Odio']])\n"
      ],
      "metadata": {
        "colab": {
          "base_uri": "https://localhost:8080/"
        },
        "id": "eJH3JTkJ_Xk4",
        "outputId": "efc14598-e851-4401-ab78-f63cfaaafd59"
      },
      "execution_count": 21,
      "outputs": [
        {
          "output_type": "stream",
          "name": "stdout",
          "text": [
            "                                             Contenido  \\\n",
            "0    En medio coyuntura ocasionada propagación coro...   \n",
            "1    Este jueves noveno día cuarentena nacional pre...   \n",
            "2    Jenny Prieto Álex Caro pareja cultivadores Jen...   \n",
            "3    Aunque Secretaría Educación recomendó padres f...   \n",
            "4    El presidente Congreso Lidio García anunció pr...   \n",
            "..                                                 ...   \n",
            "970  Frente medidas preventivas dispuesto Gobierno ...   \n",
            "971  En agosto año pasado hombre 74 años presentó t...   \n",
            "972  El presidente Iván Duque aseguró entrevista Pr...   \n",
            "973  En vereda Santa Teresita zona rural municipio ...   \n",
            "974  La pandemia coronavirus dejó viernes crisis al...   \n",
            "\n",
            "                                      Discurso de Odio  \n",
            "0    AnalyzerOutput(output=['hateful'], probas={'ha...  \n",
            "1    AnalyzerOutput(output=[], probas={'hateful': 0...  \n",
            "2    AnalyzerOutput(output=[], probas={'hateful': 0...  \n",
            "3    AnalyzerOutput(output=[], probas={'hateful': 0...  \n",
            "4    AnalyzerOutput(output=[], probas={'hateful': 0...  \n",
            "..                                                 ...  \n",
            "970  AnalyzerOutput(output=[], probas={'hateful': 0...  \n",
            "971  AnalyzerOutput(output=[], probas={'hateful': 0...  \n",
            "972  AnalyzerOutput(output=[], probas={'hateful': 0...  \n",
            "973  AnalyzerOutput(output=[], probas={'hateful': 0...  \n",
            "974  AnalyzerOutput(output=[], probas={'hateful': 0...  \n",
            "\n",
            "[975 rows x 2 columns]\n"
          ]
        }
      ]
    },
    {
      "cell_type": "code",
      "source": [
        "# Guardar los resultados en un archivo CSV\n",
        "output_csv = 'resultados_discurso_odio.csv'\n",
        "df_resultados[['Contenido', 'Discurso de Odio']].to_csv(output_csv, index=False)"
      ],
      "metadata": {
        "id": "1ZAFUrvEHdQS"
      },
      "execution_count": 14,
      "outputs": []
    },
    {
      "cell_type": "code",
      "source": [
        "import pandas as pd\n",
        "import matplotlib.pyplot as plt\n",
        "from pysentimiento import create_analyzer\n",
        "\n",
        "# Crear el analizador de emociones\n",
        "emotion_analyzer = create_analyzer(task=\"emotion\", lang=\"es\")\n",
        "\n",
        "# Función para analizar emociones en el contenido de noticias\n",
        "def analizar_emociones(texto):\n",
        "    result = emotion_analyzer.predict(texto)\n",
        "    return result\n",
        "\n",
        "# Aquí podrías tener ya `df_resultados` con 'Contenido' y 'Emociones' como columnas\n",
        "\n",
        "# Crear listas para almacenar los datos de emociones\n",
        "emociones = []\n",
        "valores_promedio = []\n",
        "\n",
        "# Iterar sobre los resultados y extraer las emociones y sus valores promedio\n",
        "for index, row in df_resultados.iterrows():\n",
        "    emociones_dict = analizar_emociones(row['Contenido']).probas\n",
        "    for emocion, valor in emociones_dict.items():\n",
        "        emociones.append(emocion)\n",
        "        valores_promedio.append(valor)\n",
        "\n",
        "# Crear un DataFrame con las emociones y sus valores promedio\n",
        "df_emociones = pd.DataFrame({'Emocion': emociones, 'Valor Promedio': valores_promedio})\n",
        "\n",
        "# Ordenar el DataFrame por 'Valor Promedio' para mejor visualización en el gráfico\n",
        "df_emociones = df_emociones.sort_values(by='Valor Promedio', ascending=False)\n",
        "\n",
        "# Crear el gráfico de barras horizontales\n",
        "plt.figure(figsize=(10, 6))\n",
        "plt.barh(df_emociones['Emocion'], df_emociones['Valor Promedio'], color='skyblue')\n",
        "plt.xlabel('Valor Promedio')\n",
        "plt.ylabel('Emoción')\n",
        "plt.title('Distribución de Emociones en Contenido de Noticias')\n",
        "plt.gca().invert_yaxis()  # Invertir el eje y para mostrar la emoción más alta arriba\n",
        "plt.tight_layout()\n",
        "plt.show()"
      ],
      "metadata": {
        "colab": {
          "base_uri": "https://localhost:8080/",
          "height": 601
        },
        "id": "T97MJcJDKLjo",
        "outputId": "c1694260-3bef-4803-b8b8-c0efa4ac6472"
      },
      "execution_count": 24,
      "outputs": [
        {
          "output_type": "display_data",
          "data": {
            "text/plain": [
              "<Figure size 1000x600 with 1 Axes>"
            ],
            "image/png": "[encoded data removed]"
          },
          "metadata": {}
        }
      ]
    }
  ]
}