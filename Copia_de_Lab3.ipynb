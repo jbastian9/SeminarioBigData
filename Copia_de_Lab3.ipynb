{
  "nbformat": 4,
  "nbformat_minor": 0,
  "metadata": {
    "colab": {
      "provenance": [],
      "include_colab_link": true
    },
    "kernelspec": {
      "name": "python3",
      "display_name": "Python 3"
    },
    "language_info": {
      "name": "python"
    }
  },
  "cells": [
    {
      "cell_type": "markdown",
      "metadata": {
        "id": "view-in-github",
        "colab_type": "text"
      },
      "source": [
        "<a href=\"https://colab.research.google.com/github/jbastian9/SeminarioBigData/blob/main/Copia_de_Lab3.ipynb\" target=\"_parent\"><img src=\"https://colab.research.google.com/assets/colab-badge.svg\" alt=\"Open In Colab\"/></a>"
      ]
    },
    {
      "cell_type": "code",
      "source": [
        "from google.colab import drive\n",
        "drive.mount('/content/drive')"
      ],
      "metadata": {
        "id": "dMTtJVbGLtWp",
        "colab": {
          "base_uri": "https://localhost:8080/"
        },
        "outputId": "29831554-e341-4d75-ebba-87f8143a599b"
      },
      "execution_count": null,
      "outputs": [
        {
          "output_type": "stream",
          "name": "stdout",
          "text": [
            "Drive already mounted at /content/drive; to attempt to forcibly remount, call drive.mount(\"/content/drive\", force_remount=True).\n"
          ]
        }
      ]
    },
    {
      "cell_type": "code",
      "source": [
        "!pip install pyspark"
      ],
      "metadata": {
        "colab": {
          "base_uri": "https://localhost:8080/"
        },
        "id": "GlA8ysqvRjtd",
        "outputId": "7c528bb2-7aa5-44f6-ef28-1d67d99a88db"
      },
      "execution_count": null,
      "outputs": [
        {
          "output_type": "stream",
          "name": "stdout",
          "text": [
            "Collecting pyspark\n",
            "  Downloading pyspark-3.5.1.tar.gz (317.0 MB)\n",
            "\u001b[2K     \u001b[90m━━━━━━━━━━━━━━━━━━━━━━━━━━━━━━━━━━━━━━━━\u001b[0m \u001b[32m317.0/317.0 MB\u001b[0m \u001b[31m3.8 MB/s\u001b[0m eta \u001b[36m0:00:00\u001b[0m\n",
            "\u001b[?25h  Preparing metadata (setup.py) ... \u001b[?25l\u001b[?25hdone\n",
            "Requirement already satisfied: py4j==0.10.9.7 in /usr/local/lib/python3.10/dist-packages (from pyspark) (0.10.9.7)\n",
            "Building wheels for collected packages: pyspark\n",
            "  Building wheel for pyspark (setup.py) ... \u001b[?25l\u001b[?25hdone\n",
            "  Created wheel for pyspark: filename=pyspark-3.5.1-py2.py3-none-any.whl size=317488491 sha256=b5b09df303a6dcb4e641ec983efc01364bb82fa5d4698ad88132f66f75e2df51\n",
            "  Stored in directory: /root/.cache/pip/wheels/80/1d/60/2c256ed38dddce2fdd93be545214a63e02fbd8d74fb0b7f3a6\n",
            "Successfully built pyspark\n",
            "Installing collected packages: pyspark\n",
            "Successfully installed pyspark-3.5.1\n"
          ]
        }
      ]
    },
    {
      "cell_type": "markdown",
      "source": [
        "El archivo CSV presenta errores de formato al intentar separar los datos utilizando el delimitador \",\". Por esta razón, decidimos utilizar un RDD con un split por coma para cada elemento del CSV.\n",
        "\n",
        "Cargar el archivo como un Resilient Distributed Dataset (RDD) nos permite manipular el contenido del archivo a un nivel más bajo que utilizando un DataFrame. Esto puede ser útil cuando el archivo tiene problemas de formato, como es nuestro caso actual.\n",
        "\n",
        "Es importante tener en cuenta que al convertir el archivo CSV en un TXT y usar un split por \",\", este método podría no ser útil si la información incluye campos como \"observaciones\" u otros tipos de contenido que puedan contener comas."
      ],
      "metadata": {
        "id": "WTokoqarSE-r"
      }
    },
    {
      "cell_type": "code",
      "source": [
        "from pyspark.sql import SparkSession\n",
        "from pyspark.sql import Row\n",
        "\n",
        "# Iniciar una sesión de Spark\n",
        "spark = SparkSession.builder.appName(\"LimpiezaDeDatos\").getOrCreate()\n",
        "\n",
        "# Ruta del archivo CSV\n",
        "ruta_archivo = \"/content/drive/MyDrive/Colab Notebooks/data/Copia de housing_fincaraiz.csv\"\n",
        "\n",
        "# Cargar el archivo como un RDD\n",
        "rdd = spark.sparkContext.textFile(ruta_archivo)\n",
        "\n",
        "# Separar el encabezado del resto de los datos\n",
        "encabezado = rdd.first()\n",
        "datos = rdd.filter(lambda x: x != encabezado)\n",
        "\n",
        "# Dividir el encabezado y las filas por comas\n",
        "columnas = encabezado.split(',')\n",
        "\n",
        "# Asegurarse de que la longitud de los nombres de las columnas coincide con la cantidad de datos en cada fila\n",
        "def parsear_fila(fila):\n",
        "    elementos = fila.split(',')\n",
        "    if len(elementos) == len(columnas):\n",
        "        return Row(*elementos)\n",
        "    else:\n",
        "        return None\n",
        "\n",
        "# Parsear las filas y filtrar las que no se pueden parsear correctamente\n",
        "filas_parsedas = datos.map(parsear_fila).filter(lambda x: x is not None)\n",
        "\n",
        "# Crear el DataFrame a partir del RDD\n",
        "df = spark.createDataFrame(filas_parsedas, schema=columnas)\n",
        "\n",
        "# Nuevos nombres de columnas\n",
        "nuevos_nombres_columnas = [\n",
        "    \"habitaciones\", \"baños\", \"parqueaderos\", \"area_construida\", \"area_privada\", \"estrato\",\n",
        "    \"estado\", \"antiguedad\", \"administracion\", \"precio_m2\", \"ascensor\", \"circuito_cerrado_de_TV\",\n",
        "    \"parqueadero_visitantes\", \"porteria_recepcion\", \"zonas_verdes\", \"salon_comunal\", \"balcon\",\n",
        "    \"barra_estilo_americano\", \"calentador\", \"chimenea\", \"citofono\", \"cocina_integral\", \"terraza\",\n",
        "    \"vigilancia\", \"parques_cercanos\", \"estudio\", \"patio\", \"deposito_bodega\", \"nombre\", \"ubicacion\", \"precio\"\n",
        "]\n",
        "\n",
        "# Validación de la cantidad de columnas\n",
        "if len(columnas) != len(nuevos_nombres_columnas):\n",
        "    print(\"The number of columns does not match. Adjust the new_column_names list.\")\n",
        "    print(f\"Original Columns ({len(columnas)}): {columnas}\")\n",
        "    print(f\"New Column Names ({len(nuevos_nombres_columnas)}): {nuevos_nombres_columnas}\")\n",
        "else:\n",
        "    # Renombrar las columnas del DataFrame\n",
        "    df = df.toDF(*nuevos_nombres_columnas)\n",
        "    # Mostrar todos los datos en forma de tabla\n",
        "    df.show(truncate=False)\n"
      ],
      "metadata": {
        "colab": {
          "base_uri": "https://localhost:8080/"
        },
        "id": "t50bgSLQN8Ex",
        "outputId": "3f6dd38d-8b2e-4baa-88e8-c8ad39c241d7"
      },
      "execution_count": null,
      "outputs": [
        {
          "output_type": "stream",
          "name": "stdout",
          "text": [
            "+------------+-----+------------+---------------+------------+-------+-----------+--------------+---------------+--------------+--------+----------------------+----------------------+------------------+------------+-------------+------+----------------------+----------+--------+--------+---------------+-------+----------+----------------+-------+-----+---------------+-----------+--------------------+----------+\n",
            "|habitaciones|baños|parqueaderos|area_construida|area_privada|estrato|estado     |antiguedad    |administracion |precio_m2     |ascensor|circuito_cerrado_de_TV|parqueadero_visitantes|porteria_recepcion|zonas_verdes|salon_comunal|balcon|barra_estilo_americano|calentador|chimenea|citofono|cocina_integral|terraza|vigilancia|parques_cercanos|estudio|patio|deposito_bodega|nombre     |ubicacion           |precio    |\n",
            "+------------+-----+------------+---------------+------------+-------+-----------+--------------+---------------+--------------+--------+----------------------+----------------------+------------------+------------+-------------+------+----------------------+----------+--------+--------+---------------+-------+----------+----------------+-------+-----+---------------+-----------+--------------------+----------+\n",
            "|1           |2    |1           |50 m²          |0 m²        |5      |Bueno      |9 a 15 años   |$ 310.000 COP  |$ 6.800.000*m²|0       |0                     |0                     |1                 |0           |0            |1     |0                     |0         |0       |0       |1              |0      |0         |0               |0      |0    |1              |Apartamento|Contador            |340000000 |\n",
            "|4           |3    |1           |90 m²          |0 m²        |4      |Bueno      |más de 30 años|$ 369.000 COP  |$ 4.000.000*m²|1       |0                     |1                     |1                 |0           |1            |0     |0                     |1         |1       |1       |1              |1      |0         |0               |0      |0    |1              |Apartamento|Cedro Golf          |360000000 |\n",
            "|2           |3    |4           |322 m²         |277 m²      |6      |No definida|1 a 8 años    |$ 2.304.000 COP|$ 9.000.000*m²|1       |1                     |0                     |0                 |0           |0            |1     |0                     |1         |1       |1       |0              |0      |0         |0               |0      |0    |0              |Apartamento|Los Rosales         |2898000000|\n",
            "|2           |2    |1           |75 m²          |75 m²       |4      |Excelente  |16 a 30 años  |$ 316.000 COP  |$ 4.200.000*m²|0       |0                     |1                     |1                 |0           |1            |0     |0                     |1         |1       |1       |1              |0      |1         |0               |0      |0    |0              |Apartamento|Mazurén             |315000000 |\n",
            "|3           |2    |1           |100 m²         |100 m²      |5      |Bueno      |16 a 30 años  |$ 440.000 COP  |$ 5.000.000*m²|1       |1                     |0                     |0                 |0           |0            |1     |0                     |1         |0       |1       |1              |0      |0         |0               |1      |0    |1              |Apartamento|Colina Campestre    |500000000 |\n",
            "|3           |2    |1           |120 m²         |120 m²      |3      |Bueno      |16 a 30 años  |$ 195.000 COP  |$ 2.750.000*m²|0       |1                     |1                     |0                 |0           |1            |0     |0                     |1         |0       |1       |1              |0      |0         |0               |0      |1    |0              |Casa       |Nuevo Techo         |330000000 |\n",
            "|2           |2    |1           |80 m²          |80 m²       |6      |Excelente  |16 a 30 años  |$ 890.000 COP  |$ 7.437.500*m²|1       |0                     |0                     |1                 |0           |0            |0     |0                     |1         |1       |1       |1              |0      |1         |0               |0      |0    |1              |Apartamento|El Virrey           |595000000 |\n",
            "|5           |3    |2           |200 m²         |0 m²        |3      |No definida|16 a 30 años  |No definida    |$ 3.750.000*m²|0       |0                     |0                     |0                 |0           |0            |0     |0                     |0         |0       |0       |0              |0      |0         |0               |0      |0    |0              |Casa       |Paris gaitan        |750000000 |\n",
            "|3           |2    |0           |55 m²          |50 m²       |3      |Excelente  |9 a 15 años   |$ 109.000 COP  |$ 4.000.000*m²|0       |1                     |1                     |1                 |0           |1            |0     |0                     |1         |0       |1       |1              |0      |0         |0               |0      |1    |0              |Apartamento|Zona Noroccidente   |220000000 |\n",
            "|11          |6    |2           |320 m²         |320 m²      |3      |Bueno      |16 a 30 años  |No definida    |$ 2.187.500*m²|0       |0                     |0                     |0                 |0           |0            |0     |0                     |0         |0       |0       |0              |0      |0         |1               |1      |1    |1              |Casa       |Santa Rita          |700000000 |\n",
            "|4           |3    |2           |120 m²         |110 m²      |5      |Excelente  |16 a 30 años  |$ 500.000 COP  |$ 3.332.500*m²|0       |0                     |0                     |0                 |0           |0            |0     |0                     |0         |0       |0       |0              |0      |0         |0               |0      |0    |0              |Apartamento|Bella suiza         |399900000 |\n",
            "|1           |1    |1           |40 m²          |40 m²       |3      |Bueno      |16 a 30 años  |$ 141.000 COP  |$ 7.000.000*m²|0       |0                     |0                     |1                 |0           |0            |0     |0                     |0         |0       |1       |1              |0      |1         |1               |0      |0    |0              |Apartamento|zona centro         |280000000 |\n",
            "|5           |3    |1           |200 m²         |160 m²      |4      |Bueno      |más de 30 años|No definida    |$ 3.500.000*m²|0       |0                     |0                     |0                 |0           |0            |0     |0                     |0         |0       |0       |1              |0      |0         |1               |0      |0    |0              |Casa       |Palermo             |700000000 |\n",
            "|3           |3    |1           |75 m²          |67 m²       |4      |Bueno      |9 a 15 años   |$ 260.000 COP  |$ 4.600.000*m²|1       |1                     |1                     |0                 |0           |0            |0     |0                     |1         |0       |1       |1              |0      |0         |0               |1      |0    |0              |Apartamento|Villa alsacia       |345000000 |\n",
            "|3           |2    |0           |55 m²          |50 m²       |3      |Excelente  |9 a 15 años   |$ 109.000 COP  |$ 4.000.000*m²|0       |1                     |1                     |1                 |0           |1            |0     |0                     |1         |0       |1       |1              |0      |0         |0               |0      |1    |0              |Apartamento|Zona Noroccidente   |220000000 |\n",
            "|4           |5    |4           |200 m²         |0 m²        |5      |Excelente  |1 a 8 años    |$ 1.000.000 COP|$ 4.900.000*m²|1       |1                     |1                     |1                 |0           |0            |1     |1                     |1         |1       |1       |0              |0      |0         |0               |0      |0    |0              |Apartamento|Cedritos            |980000000 |\n",
            "|4           |3    |1           |90 m²          |0 m²        |4      |Bueno      |más de 30 años|$ 369.000 COP  |$ 4.000.000*m²|1       |0                     |1                     |1                 |0           |1            |0     |0                     |1         |1       |1       |1              |1      |0         |0               |0      |0    |1              |Apartamento|Cedro Golf          |360000000 |\n",
            "|3           |2    |0           |60 m²          |60 m²       |3      |Bueno      |9 a 15 años   |$ 130.000 COP  |$ 3.800.000*m²|1       |1                     |0                     |1                 |0           |1            |1     |0                     |1         |0       |1       |1              |0      |0         |0               |0      |0    |0              |Apartamento|Primavera Occidental|228000000 |\n",
            "|8           |5    |0           |500 m²         |0 m²        |3      |Excelente  |9 a 15 años   |No definida    |$ 3.400.000*m²|0       |1                     |0                     |0                 |0           |0            |0     |0                     |0         |0       |0       |1              |1      |0         |0               |0      |0    |1              |Casa       |Los Cerezos         |1700000000|\n",
            "|4           |4    |2           |136 m²         |128 m²      |4      |Excelente  |1 a 8 años    |$ 410.000 COP  |$ 6.250.000*m²|1       |1                     |1                     |0                 |0           |0            |1     |0                     |1         |1       |1       |0              |0      |0         |0               |0      |0    |0              |Apartamento|Mazurén             |850000000 |\n",
            "+------------+-----+------------+---------------+------------+-------+-----------+--------------+---------------+--------------+--------+----------------------+----------------------+------------------+------------+-------------+------+----------------------+----------+--------+--------+---------------+-------+----------+----------------+-------+-----+---------------+-----------+--------------------+----------+\n",
            "only showing top 20 rows\n",
            "\n"
          ]
        }
      ]
    },
    {
      "cell_type": "code",
      "source": [
        "from pyspark.sql.functions import col, regexp_replace, lower\n",
        "import unicodedata\n",
        "\n",
        "# Limpiar espacios en blanco al final y convertir a minúsculas\n",
        "df_cleaned = df.select([\n",
        "    lower(regexp_replace(col(column), '\\s+$', '')).alias(column) for column in df.columns\n",
        "])\n",
        "\n",
        "# Aplicar limpieza específica para las columnas de precios y áreas\n",
        "df_cleaned = df_cleaned.withColumn('precio_m2', regexp_replace('precio_m2', '[^\\d]', ''))\n",
        "df_cleaned = df_cleaned.withColumn('administracion', regexp_replace('administracion', '[^\\d]', ''))\n",
        "df_cleaned = df_cleaned.withColumn('precio', regexp_replace('precio', '[^\\d]', ''))\n",
        "\n",
        "# Convertir las columnas de áreas a números eliminando el indicador de m²\n",
        "df_cleaned = df_cleaned.withColumn('area_construida', regexp_replace('area_construida', '[^\\d]', ''))\n",
        "df_cleaned = df_cleaned.withColumn('area_privada', regexp_replace('area_privada', '[^\\d]', ''))\n",
        "\n",
        "# Mostrar la tabla limpia\n",
        "df_cleaned.show(truncate=False)\n"
      ],
      "metadata": {
        "id": "0lowfMVjWf7I",
        "outputId": "50912636-2e54-4779-a0ae-44dc2f9197ea",
        "colab": {
          "base_uri": "https://localhost:8080/"
        }
      },
      "execution_count": null,
      "outputs": [
        {
          "output_type": "stream",
          "name": "stdout",
          "text": [
            "+------------+-----+------------+---------------+------------+-------+-----------+--------------+--------------+---------+--------+----------------------+----------------------+------------------+------------+-------------+------+----------------------+----------+--------+--------+---------------+-------+----------+----------------+-------+-----+---------------+-----------+--------------------+----------+\n",
            "|habitaciones|baños|parqueaderos|area_construida|area_privada|estrato|estado     |antiguedad    |administracion|precio_m2|ascensor|circuito_cerrado_de_TV|parqueadero_visitantes|porteria_recepcion|zonas_verdes|salon_comunal|balcon|barra_estilo_americano|calentador|chimenea|citofono|cocina_integral|terraza|vigilancia|parques_cercanos|estudio|patio|deposito_bodega|nombre     |ubicacion           |precio    |\n",
            "+------------+-----+------------+---------------+------------+-------+-----------+--------------+--------------+---------+--------+----------------------+----------------------+------------------+------------+-------------+------+----------------------+----------+--------+--------+---------------+-------+----------+----------------+-------+-----+---------------+-----------+--------------------+----------+\n",
            "|1           |2    |1           |50             |0           |5      |bueno      |9 a 15 años   |310000        |6800000  |0       |0                     |0                     |1                 |0           |0            |1     |0                     |0         |0       |0       |1              |0      |0         |0               |0      |0    |1              |apartamento|contador            |340000000 |\n",
            "|4           |3    |1           |90             |0           |4      |bueno      |más de 30 años|369000        |4000000  |1       |0                     |1                     |1                 |0           |1            |0     |0                     |1         |1       |1       |1              |1      |0         |0               |0      |0    |1              |apartamento|cedro golf          |360000000 |\n",
            "|2           |3    |4           |322            |277         |6      |no definida|1 a 8 años    |2304000       |9000000  |1       |1                     |0                     |0                 |0           |0            |1     |0                     |1         |1       |1       |0              |0      |0         |0               |0      |0    |0              |apartamento|los rosales         |2898000000|\n",
            "|2           |2    |1           |75             |75          |4      |excelente  |16 a 30 años  |316000        |4200000  |0       |0                     |1                     |1                 |0           |1            |0     |0                     |1         |1       |1       |1              |0      |1         |0               |0      |0    |0              |apartamento|mazurén             |315000000 |\n",
            "|3           |2    |1           |100            |100         |5      |bueno      |16 a 30 años  |440000        |5000000  |1       |1                     |0                     |0                 |0           |0            |1     |0                     |1         |0       |1       |1              |0      |0         |0               |1      |0    |1              |apartamento|colina campestre    |500000000 |\n",
            "|3           |2    |1           |120            |120         |3      |bueno      |16 a 30 años  |195000        |2750000  |0       |1                     |1                     |0                 |0           |1            |0     |0                     |1         |0       |1       |1              |0      |0         |0               |0      |1    |0              |casa       |nuevo techo         |330000000 |\n",
            "|2           |2    |1           |80             |80          |6      |excelente  |16 a 30 años  |890000        |7437500  |1       |0                     |0                     |1                 |0           |0            |0     |0                     |1         |1       |1       |1              |0      |1         |0               |0      |0    |1              |apartamento|el virrey           |595000000 |\n",
            "|5           |3    |2           |200            |0           |3      |no definida|16 a 30 años  |              |3750000  |0       |0                     |0                     |0                 |0           |0            |0     |0                     |0         |0       |0       |0              |0      |0         |0               |0      |0    |0              |casa       |paris gaitan        |750000000 |\n",
            "|3           |2    |0           |55             |50          |3      |excelente  |9 a 15 años   |109000        |4000000  |0       |1                     |1                     |1                 |0           |1            |0     |0                     |1         |0       |1       |1              |0      |0         |0               |0      |1    |0              |apartamento|zona noroccidente   |220000000 |\n",
            "|11          |6    |2           |320            |320         |3      |bueno      |16 a 30 años  |              |2187500  |0       |0                     |0                     |0                 |0           |0            |0     |0                     |0         |0       |0       |0              |0      |0         |1               |1      |1    |1              |casa       |santa rita          |700000000 |\n",
            "|4           |3    |2           |120            |110         |5      |excelente  |16 a 30 años  |500000        |3332500  |0       |0                     |0                     |0                 |0           |0            |0     |0                     |0         |0       |0       |0              |0      |0         |0               |0      |0    |0              |apartamento|bella suiza         |399900000 |\n",
            "|1           |1    |1           |40             |40          |3      |bueno      |16 a 30 años  |141000        |7000000  |0       |0                     |0                     |1                 |0           |0            |0     |0                     |0         |0       |1       |1              |0      |1         |1               |0      |0    |0              |apartamento|zona centro         |280000000 |\n",
            "|5           |3    |1           |200            |160         |4      |bueno      |más de 30 años|              |3500000  |0       |0                     |0                     |0                 |0           |0            |0     |0                     |0         |0       |0       |1              |0      |0         |1               |0      |0    |0              |casa       |palermo             |700000000 |\n",
            "|3           |3    |1           |75             |67          |4      |bueno      |9 a 15 años   |260000        |4600000  |1       |1                     |1                     |0                 |0           |0            |0     |0                     |1         |0       |1       |1              |0      |0         |0               |1      |0    |0              |apartamento|villa alsacia       |345000000 |\n",
            "|3           |2    |0           |55             |50          |3      |excelente  |9 a 15 años   |109000        |4000000  |0       |1                     |1                     |1                 |0           |1            |0     |0                     |1         |0       |1       |1              |0      |0         |0               |0      |1    |0              |apartamento|zona noroccidente   |220000000 |\n",
            "|4           |5    |4           |200            |0           |5      |excelente  |1 a 8 años    |1000000       |4900000  |1       |1                     |1                     |1                 |0           |0            |1     |1                     |1         |1       |1       |0              |0      |0         |0               |0      |0    |0              |apartamento|cedritos            |980000000 |\n",
            "|4           |3    |1           |90             |0           |4      |bueno      |más de 30 años|369000        |4000000  |1       |0                     |1                     |1                 |0           |1            |0     |0                     |1         |1       |1       |1              |1      |0         |0               |0      |0    |1              |apartamento|cedro golf          |360000000 |\n",
            "|3           |2    |0           |60             |60          |3      |bueno      |9 a 15 años   |130000        |3800000  |1       |1                     |0                     |1                 |0           |1            |1     |0                     |1         |0       |1       |1              |0      |0         |0               |0      |0    |0              |apartamento|primavera occidental|228000000 |\n",
            "|8           |5    |0           |500            |0           |3      |excelente  |9 a 15 años   |              |3400000  |0       |1                     |0                     |0                 |0           |0            |0     |0                     |0         |0       |0       |1              |1      |0         |0               |0      |0    |1              |casa       |los cerezos         |1700000000|\n",
            "|4           |4    |2           |136            |128         |4      |excelente  |1 a 8 años    |410000        |6250000  |1       |1                     |1                     |0                 |0           |0            |1     |0                     |1         |1       |1       |0              |0      |0         |0               |0      |0    |0              |apartamento|mazurén             |850000000 |\n",
            "+------------+-----+------------+---------------+------------+-------+-----------+--------------+--------------+---------+--------+----------------------+----------------------+------------------+------------+-------------+------+----------------------+----------+--------+--------+---------------+-------+----------+----------------+-------+-----+---------------+-----------+--------------------+----------+\n",
            "only showing top 20 rows\n",
            "\n"
          ]
        }
      ]
    },
    {
      "cell_type": "markdown",
      "source": [
        "  # **Recolectar datos iniciales**\n",
        "\n",
        "### ¿Qué variables (columnas, atributos) de la(s) tabla(s) o base(s) de datos parecen más prometedores?\n",
        "\n",
        "Se determinó que las variables más relevantes para el análisis de precios de vivienda son:\n",
        "\n",
        "- **Precio:** Representa el valor monetario de la propiedad, siendo el principal objetivo del estudio.\n",
        "- **Área construida:** Influye directamente en el precio, ya que propiedades con mayor área construida suelen tener valores más altos.\n",
        "- **Ubicación:** Factor crucial que afecta significativamente el valor de la propiedad debido a la influencia de la zona, servicios y seguridad.\n",
        "- **Estrato:** En algunos contextos, el estrato socioeconómico de la propiedad puede impactar considerablemente en su valoración.\n",
        "- **Estado:** La condición general de la propiedad (bueno, excelente, etc.) afecta su atractivo y valor en el mercado.\n",
        "- **Antigüedad:** La edad de la propiedad puede influir en su valoración, con propiedades más nuevas a menudo siendo más valoradas.\n",
        "- **Administración:** Costo mensual de administración, relevante para compradores e inversores por su impacto en los costos operativos.\n",
        "- **Habitaciones y baños:** Indicativos del tamaño y comodidad de la propiedad, influyendo en su atractivo y valorización.\n",
        "\n",
        "Estas variables fueron identificadas como las más prometedoras debido a su capacidad para explicar variaciones en los precios de las propiedades y su importancia en la toma de decisiones en el mercado inmobiliario.\n"
      ],
      "metadata": {
        "id": "woa9l1jFYpH3"
      }
    },
    {
      "cell_type": "code",
      "source": [
        "# Seleccionar solo las columnas relevantes\n",
        "columnas_relevantes = [\n",
        "    \"precio\", \"area_construida\", \"ubicacion\", \"estrato\", \"estado\",\n",
        "    \"antiguedad\", \"administracion\", \"habitaciones\", \"baños\"\n",
        "]\n",
        "\n",
        "# Mostrar la tabla limpia con las columnas seleccionadas\n",
        "df_cleaned.select(columnas_relevantes).show(truncate=False)\n"
      ],
      "metadata": {
        "id": "Pa3eXMG1aMSp",
        "outputId": "05d6fdbb-9a55-4414-85b2-cfc4c00bfe58",
        "colab": {
          "base_uri": "https://localhost:8080/"
        }
      },
      "execution_count": null,
      "outputs": [
        {
          "output_type": "stream",
          "name": "stdout",
          "text": [
            "+----------+---------------+--------------------+-------+-----------+--------------+--------------+------------+-----+\n",
            "|precio    |area_construida|ubicacion           |estrato|estado     |antiguedad    |administracion|habitaciones|baños|\n",
            "+----------+---------------+--------------------+-------+-----------+--------------+--------------+------------+-----+\n",
            "|340000000 |50             |contador            |5      |bueno      |9 a 15 años   |310000        |1           |2    |\n",
            "|360000000 |90             |cedro golf          |4      |bueno      |más de 30 años|369000        |4           |3    |\n",
            "|2898000000|322            |los rosales         |6      |no definida|1 a 8 años    |2304000       |2           |3    |\n",
            "|315000000 |75             |mazurén             |4      |excelente  |16 a 30 años  |316000        |2           |2    |\n",
            "|500000000 |100            |colina campestre    |5      |bueno      |16 a 30 años  |440000        |3           |2    |\n",
            "|330000000 |120            |nuevo techo         |3      |bueno      |16 a 30 años  |195000        |3           |2    |\n",
            "|595000000 |80             |el virrey           |6      |excelente  |16 a 30 años  |890000        |2           |2    |\n",
            "|750000000 |200            |paris gaitan        |3      |no definida|16 a 30 años  |              |5           |3    |\n",
            "|220000000 |55             |zona noroccidente   |3      |excelente  |9 a 15 años   |109000        |3           |2    |\n",
            "|700000000 |320            |santa rita          |3      |bueno      |16 a 30 años  |              |11          |6    |\n",
            "|399900000 |120            |bella suiza         |5      |excelente  |16 a 30 años  |500000        |4           |3    |\n",
            "|280000000 |40             |zona centro         |3      |bueno      |16 a 30 años  |141000        |1           |1    |\n",
            "|700000000 |200            |palermo             |4      |bueno      |más de 30 años|              |5           |3    |\n",
            "|345000000 |75             |villa alsacia       |4      |bueno      |9 a 15 años   |260000        |3           |3    |\n",
            "|220000000 |55             |zona noroccidente   |3      |excelente  |9 a 15 años   |109000        |3           |2    |\n",
            "|980000000 |200            |cedritos            |5      |excelente  |1 a 8 años    |1000000       |4           |5    |\n",
            "|360000000 |90             |cedro golf          |4      |bueno      |más de 30 años|369000        |4           |3    |\n",
            "|228000000 |60             |primavera occidental|3      |bueno      |9 a 15 años   |130000        |3           |2    |\n",
            "|1700000000|500            |los cerezos         |3      |excelente  |9 a 15 años   |              |8           |5    |\n",
            "|850000000 |136            |mazurén             |4      |excelente  |1 a 8 años    |410000        |4           |4    |\n",
            "+----------+---------------+--------------------+-------+-----------+--------------+--------------+------------+-----+\n",
            "only showing top 20 rows\n",
            "\n"
          ]
        }
      ]
    },
    {
      "cell_type": "markdown",
      "source": [
        "### ¿Qué variables parecen irrelevantes y pueden ser excluidas?\n",
        "\n",
        "Se determinó que las variables menos relevantes y que pueden ser excluidas del análisis son:\n",
        "\n",
        "- **Parqueadero_visitantes:** Esta variable indica la disponibilidad de parqueadero para visitantes, pero no tiene un impacto directo en la valoración de la propiedad.\n",
        "- **Circuito_cerrado_de_TV:** Indica si el lugar cuenta con circuito cerrado de televisión, un factor de seguridad que no influye significativamente en el precio de la propiedad.\n",
        "- **Estudio:** Variable que indica la presencia de un estudio en la propiedad, aunque no es crucial para determinar su valor en el mercado.\n",
        "- **Barra_estilo_americano:** Indica si la cocina tiene una barra estilo americano, un detalle que no influye considerablemente en la valoración de la propiedad.\n",
        "- **Zonas_verdes:** Indica la presencia de áreas verdes cercanas, pero no tiene un impacto directo en el precio de venta o arriendo de la propiedad.\n",
        "\n",
        "Estas variables fueron identificadas como menos relevantes porque su impacto en la valoración de las propiedades es menos significativo en comparación con otras variables como el precio, área construida, ubicación y estado general de la propiedad.\n"
      ],
      "metadata": {
        "id": "EAGLkzfBaxlA"
      }
    },
    {
      "cell_type": "code",
      "source": [
        "# Seleccionar solo las columnas irrelevantes\n",
        "columnas_irrelevantes = [\n",
        "    \"parqueadero_visitantes\", \"circuito_cerrado_de_TV\", \"estudio\",\n",
        "    \"barra_estilo_americano\", \"zonas_verdes\"\n",
        "]\n",
        "\n",
        "# Mostrar la tabla limpia excluyendo las columnas irrelevantes\n",
        "df_cleaned.drop(*columnas_irrelevantes).show(truncate=False)\n",
        "\n",
        "# Mostrar la tabla con las columnas irrelevantes\n",
        "df_cleaned.select(columnas_irrelevantes).show(truncate=False)\n"
      ],
      "metadata": {
        "id": "Kjh6ZUiia7BP",
        "outputId": "3090f2c1-e9e0-4f84-f882-5fa98679dd2a",
        "colab": {
          "base_uri": "https://localhost:8080/"
        }
      },
      "execution_count": null,
      "outputs": [
        {
          "output_type": "stream",
          "name": "stdout",
          "text": [
            "+------------+-----+------------+---------------+------------+-------+-----------+--------------+--------------+---------+--------+------------------+-------------+------+----------+--------+--------+---------------+-------+----------+----------------+-----+---------------+-----------+--------------------+----------+\n",
            "|habitaciones|baños|parqueaderos|area_construida|area_privada|estrato|estado     |antiguedad    |administracion|precio_m2|ascensor|porteria_recepcion|salon_comunal|balcon|calentador|chimenea|citofono|cocina_integral|terraza|vigilancia|parques_cercanos|patio|deposito_bodega|nombre     |ubicacion           |precio    |\n",
            "+------------+-----+------------+---------------+------------+-------+-----------+--------------+--------------+---------+--------+------------------+-------------+------+----------+--------+--------+---------------+-------+----------+----------------+-----+---------------+-----------+--------------------+----------+\n",
            "|1           |2    |1           |50             |0           |5      |bueno      |9 a 15 años   |310000        |6800000  |0       |1                 |0            |1     |0         |0       |0       |1              |0      |0         |0               |0    |1              |apartamento|contador            |340000000 |\n",
            "|4           |3    |1           |90             |0           |4      |bueno      |más de 30 años|369000        |4000000  |1       |1                 |1            |0     |1         |1       |1       |1              |1      |0         |0               |0    |1              |apartamento|cedro golf          |360000000 |\n",
            "|2           |3    |4           |322            |277         |6      |no definida|1 a 8 años    |2304000       |9000000  |1       |0                 |0            |1     |1         |1       |1       |0              |0      |0         |0               |0    |0              |apartamento|los rosales         |2898000000|\n",
            "|2           |2    |1           |75             |75          |4      |excelente  |16 a 30 años  |316000        |4200000  |0       |1                 |1            |0     |1         |1       |1       |1              |0      |1         |0               |0    |0              |apartamento|mazurén             |315000000 |\n",
            "|3           |2    |1           |100            |100         |5      |bueno      |16 a 30 años  |440000        |5000000  |1       |0                 |0            |1     |1         |0       |1       |1              |0      |0         |0               |0    |1              |apartamento|colina campestre    |500000000 |\n",
            "|3           |2    |1           |120            |120         |3      |bueno      |16 a 30 años  |195000        |2750000  |0       |0                 |1            |0     |1         |0       |1       |1              |0      |0         |0               |1    |0              |casa       |nuevo techo         |330000000 |\n",
            "|2           |2    |1           |80             |80          |6      |excelente  |16 a 30 años  |890000        |7437500  |1       |1                 |0            |0     |1         |1       |1       |1              |0      |1         |0               |0    |1              |apartamento|el virrey           |595000000 |\n",
            "|5           |3    |2           |200            |0           |3      |no definida|16 a 30 años  |              |3750000  |0       |0                 |0            |0     |0         |0       |0       |0              |0      |0         |0               |0    |0              |casa       |paris gaitan        |750000000 |\n",
            "|3           |2    |0           |55             |50          |3      |excelente  |9 a 15 años   |109000        |4000000  |0       |1                 |1            |0     |1         |0       |1       |1              |0      |0         |0               |1    |0              |apartamento|zona noroccidente   |220000000 |\n",
            "|11          |6    |2           |320            |320         |3      |bueno      |16 a 30 años  |              |2187500  |0       |0                 |0            |0     |0         |0       |0       |0              |0      |0         |1               |1    |1              |casa       |santa rita          |700000000 |\n",
            "|4           |3    |2           |120            |110         |5      |excelente  |16 a 30 años  |500000        |3332500  |0       |0                 |0            |0     |0         |0       |0       |0              |0      |0         |0               |0    |0              |apartamento|bella suiza         |399900000 |\n",
            "|1           |1    |1           |40             |40          |3      |bueno      |16 a 30 años  |141000        |7000000  |0       |1                 |0            |0     |0         |0       |1       |1              |0      |1         |1               |0    |0              |apartamento|zona centro         |280000000 |\n",
            "|5           |3    |1           |200            |160         |4      |bueno      |más de 30 años|              |3500000  |0       |0                 |0            |0     |0         |0       |0       |1              |0      |0         |1               |0    |0              |casa       |palermo             |700000000 |\n",
            "|3           |3    |1           |75             |67          |4      |bueno      |9 a 15 años   |260000        |4600000  |1       |0                 |0            |0     |1         |0       |1       |1              |0      |0         |0               |0    |0              |apartamento|villa alsacia       |345000000 |\n",
            "|3           |2    |0           |55             |50          |3      |excelente  |9 a 15 años   |109000        |4000000  |0       |1                 |1            |0     |1         |0       |1       |1              |0      |0         |0               |1    |0              |apartamento|zona noroccidente   |220000000 |\n",
            "|4           |5    |4           |200            |0           |5      |excelente  |1 a 8 años    |1000000       |4900000  |1       |1                 |0            |1     |1         |1       |1       |0              |0      |0         |0               |0    |0              |apartamento|cedritos            |980000000 |\n",
            "|4           |3    |1           |90             |0           |4      |bueno      |más de 30 años|369000        |4000000  |1       |1                 |1            |0     |1         |1       |1       |1              |1      |0         |0               |0    |1              |apartamento|cedro golf          |360000000 |\n",
            "|3           |2    |0           |60             |60          |3      |bueno      |9 a 15 años   |130000        |3800000  |1       |1                 |1            |1     |1         |0       |1       |1              |0      |0         |0               |0    |0              |apartamento|primavera occidental|228000000 |\n",
            "|8           |5    |0           |500            |0           |3      |excelente  |9 a 15 años   |              |3400000  |0       |0                 |0            |0     |0         |0       |0       |1              |1      |0         |0               |0    |1              |casa       |los cerezos         |1700000000|\n",
            "|4           |4    |2           |136            |128         |4      |excelente  |1 a 8 años    |410000        |6250000  |1       |0                 |0            |1     |1         |1       |1       |0              |0      |0         |0               |0    |0              |apartamento|mazurén             |850000000 |\n",
            "+------------+-----+------------+---------------+------------+-------+-----------+--------------+--------------+---------+--------+------------------+-------------+------+----------+--------+--------+---------------+-------+----------+----------------+-----+---------------+-----------+--------------------+----------+\n",
            "only showing top 20 rows\n",
            "\n",
            "+----------------------+----------------------+-------+----------------------+------------+\n",
            "|parqueadero_visitantes|circuito_cerrado_de_TV|estudio|barra_estilo_americano|zonas_verdes|\n",
            "+----------------------+----------------------+-------+----------------------+------------+\n",
            "|0                     |0                     |0      |0                     |0           |\n",
            "|1                     |0                     |0      |0                     |0           |\n",
            "|0                     |1                     |0      |0                     |0           |\n",
            "|1                     |0                     |0      |0                     |0           |\n",
            "|0                     |1                     |1      |0                     |0           |\n",
            "|1                     |1                     |0      |0                     |0           |\n",
            "|0                     |0                     |0      |0                     |0           |\n",
            "|0                     |0                     |0      |0                     |0           |\n",
            "|1                     |1                     |0      |0                     |0           |\n",
            "|0                     |0                     |1      |0                     |0           |\n",
            "|0                     |0                     |0      |0                     |0           |\n",
            "|0                     |0                     |0      |0                     |0           |\n",
            "|0                     |0                     |0      |0                     |0           |\n",
            "|1                     |1                     |1      |0                     |0           |\n",
            "|1                     |1                     |0      |0                     |0           |\n",
            "|1                     |1                     |0      |1                     |0           |\n",
            "|1                     |0                     |0      |0                     |0           |\n",
            "|0                     |1                     |0      |0                     |0           |\n",
            "|0                     |1                     |0      |0                     |0           |\n",
            "|1                     |1                     |0      |0                     |0           |\n",
            "+----------------------+----------------------+-------+----------------------+------------+\n",
            "only showing top 20 rows\n",
            "\n"
          ]
        }
      ]
    },
    {
      "cell_type": "markdown",
      "source": [
        "### ¿Hay suficientes datos para sacar conclusiones generalizables o hacer predicciones precisas?\n",
        "\n",
        "Basado en la cantidad y calidad de los datos disponibles, se dispone de suficiente información para realizar análisis exploratorios y modelado predictivo inicial.\n"
      ],
      "metadata": {
        "id": "kuKyTasZcJzO"
      }
    },
    {
      "cell_type": "markdown",
      "source": [
        "### ¿Hay demasiadas variables para el método de modelado de su elección?\n",
        "\n",
        "Dado que estamos utilizando Regresión Lineal y seleccionamos 8 variables como relevantes, se considera que hay suficientes datos para manejar. Sin embargo, debemos asegurarnos de que estas variables realmente influyan en la predicción final y no sobrecargar el modelo con información innecesaria."
      ],
      "metadata": {
        "id": "qiAVyoGfde1A"
      }
    },
    {
      "cell_type": "markdown",
      "source": [
        "### ¿Está fusionando varias fuentes de datos? Si es así, ¿hay áreas que podrían plantear un problema al fusionar?\n",
        "\n",
        "No, todos los datos provienen de la misma fuente, el archivo csv obtenido"
      ],
      "metadata": {
        "id": "YPCectNIdxze"
      }
    },
    {
      "cell_type": "markdown",
      "source": [
        "### ¿Ha considerado cómo se manejan los valores que faltan en cada uno de sus orígenes de\n",
        "datos?\n",
        "\n",
        "Sí, se han considerado los valores faltantes en los datos. En la muestra proporcionada por el visualizador anterior, se observa que las columnas \"administracion\" y \"antiguedad\" contienen valores nulos. Para manejarlos adecuadamente, se planea imputar estos valores utilizando técnicas estadísticas como la media o la mediana, asegurando que el proceso de imputación no afecte negativamente la calidad del modelo de regresión lineal. Esto es crucial para mantener la precisión de las predicciones sobre los precios de las propiedades."
      ],
      "metadata": {
        "id": "g8rdWNmvebv2"
      }
    },
    {
      "cell_type": "code",
      "source": [
        "from pyspark.sql import functions as F\n",
        "from pyspark.sql.types import IntegerType, DoubleType\n",
        "\n",
        "# Definir función para calcular la mediana\n",
        "def median(df, col):\n",
        "    return df.approxQuantile(col, [0.5], 0.25)[0]\n",
        "\n",
        "# Convertir columnas relevantes a tipos numéricos si es necesario\n",
        "df_cleaned = df_cleaned.withColumn(\"administracion\", df_cleaned[\"administracion\"].cast(IntegerType()))\n",
        "df_cleaned = df_cleaned.withColumn(\"precio\", df_cleaned[\"precio\"].cast(DoubleType()))\n",
        "\n",
        "# Imputar valores nulos o ceros con la mediana de columnas numéricas\n",
        "for col_name in [\"precio\", \"administracion\"]:\n",
        "    if col_name in df_cleaned.columns:  # Verificar que la columna exista\n",
        "        median_value = median(df_cleaned, col_name)\n",
        "        df_cleaned = df_cleaned.withColumn(col_name, F.when((F.col(col_name).isNull()) | (F.col(col_name) == 0), median_value).otherwise(F.col(col_name)))\n",
        "        print(f\"Valor imputado para '{col_name}': {median_value}\")\n",
        "\n",
        "# Mostrar la tabla limpia con las columnas seleccionadas y formato adecuado para precio\n",
        "df_cleaned.select(\"precio\", \"area_construida\", \"ubicacion\", \"estrato\", \"estado\", \"antiguedad\", \"administracion\", \"habitaciones\", \"baños\") \\\n",
        "  .withColumn(\"precio\", F.format_number(\"precio\", 0)) \\\n",
        "  .show(truncate=False)\n"
      ],
      "metadata": {
        "id": "e4fuNsnUfFtL",
        "outputId": "a628b252-8f64-4e44-e9b9-0c7cce56231a",
        "colab": {
          "base_uri": "https://localhost:8080/"
        }
      },
      "execution_count": null,
      "outputs": [
        {
          "output_type": "stream",
          "name": "stdout",
          "text": [
            "Valor imputado para 'precio': 315000000.0\n",
            "Valor imputado para 'administracion': 220000.0\n",
            "+-------------+---------------+--------------------+-------+-----------+--------------+--------------+------------+-----+\n",
            "|precio       |area_construida|ubicacion           |estrato|estado     |antiguedad    |administracion|habitaciones|baños|\n",
            "+-------------+---------------+--------------------+-------+-----------+--------------+--------------+------------+-----+\n",
            "|340,000,000  |50             |contador            |5      |bueno      |9 a 15 años   |310000.0      |1           |2    |\n",
            "|360,000,000  |90             |cedro golf          |4      |bueno      |más de 30 años|369000.0      |4           |3    |\n",
            "|2,898,000,000|322            |los rosales         |6      |no definida|1 a 8 años    |2304000.0     |2           |3    |\n",
            "|315,000,000  |75             |mazurén             |4      |excelente  |16 a 30 años  |316000.0      |2           |2    |\n",
            "|500,000,000  |100            |colina campestre    |5      |bueno      |16 a 30 años  |440000.0      |3           |2    |\n",
            "|330,000,000  |120            |nuevo techo         |3      |bueno      |16 a 30 años  |195000.0      |3           |2    |\n",
            "|595,000,000  |80             |el virrey           |6      |excelente  |16 a 30 años  |890000.0      |2           |2    |\n",
            "|750,000,000  |200            |paris gaitan        |3      |no definida|16 a 30 años  |220000.0      |5           |3    |\n",
            "|220,000,000  |55             |zona noroccidente   |3      |excelente  |9 a 15 años   |109000.0      |3           |2    |\n",
            "|700,000,000  |320            |santa rita          |3      |bueno      |16 a 30 años  |220000.0      |11          |6    |\n",
            "|399,900,000  |120            |bella suiza         |5      |excelente  |16 a 30 años  |500000.0      |4           |3    |\n",
            "|280,000,000  |40             |zona centro         |3      |bueno      |16 a 30 años  |141000.0      |1           |1    |\n",
            "|700,000,000  |200            |palermo             |4      |bueno      |más de 30 años|220000.0      |5           |3    |\n",
            "|345,000,000  |75             |villa alsacia       |4      |bueno      |9 a 15 años   |260000.0      |3           |3    |\n",
            "|220,000,000  |55             |zona noroccidente   |3      |excelente  |9 a 15 años   |109000.0      |3           |2    |\n",
            "|980,000,000  |200            |cedritos            |5      |excelente  |1 a 8 años    |1000000.0     |4           |5    |\n",
            "|360,000,000  |90             |cedro golf          |4      |bueno      |más de 30 años|369000.0      |4           |3    |\n",
            "|228,000,000  |60             |primavera occidental|3      |bueno      |9 a 15 años   |130000.0      |3           |2    |\n",
            "|1,700,000,000|500            |los cerezos         |3      |excelente  |9 a 15 años   |220000.0      |8           |5    |\n",
            "|850,000,000  |136            |mazurén             |4      |excelente  |1 a 8 años    |410000.0      |4           |4    |\n",
            "+-------------+---------------+--------------------+-------+-----------+--------------+--------------+------------+-----+\n",
            "only showing top 20 rows\n",
            "\n"
          ]
        }
      ]
    },
    {
      "cell_type": "markdown",
      "source": [
        "# Describir los datos\n",
        "\n",
        "### ¿Cuál es el formato de los datos?\n",
        "\n",
        "El formato de los datos que hemos estado manipulando, es principalmente estructurado. Esto significa que los datos están organizados en filas y columnas, donde cada columna tiene un tipo de datos específico como entero, decimal, cadena de texto, etc.\n"
      ],
      "metadata": {
        "id": "zRRZ-sRqiy2U"
      }
    },
    {
      "cell_type": "markdown",
      "source": [
        "### ¿Cuál es el método utilizado para capturar los datos?\n",
        "El método utilizado para capturar los datos fue a través de la carga de un archivo CSV.\n",
        "\n",
        "### ¿Qué tamaño tiene la base de datos (en número de filas y columnas)?"
      ],
      "metadata": {
        "id": "5qy4JCULlNvH"
      }
    },
    {
      "cell_type": "code",
      "source": [
        "# Cargar el archivo CSV como un DataFrame\n",
        "df0 = spark.read.option(\"header\", \"true\").csv(ruta_archivo)\n",
        "\n",
        "# Obtener el tamaño del DataFrame (número de filas y columnas)\n",
        "num_filas = df0.count()\n",
        "num_columnas = len(df0.columns)\n",
        "\n",
        "# Imprimir el tamaño del DataFrame CSV\n",
        "print(f\"Tamaño del DataFrame CSV: {num_filas} filas y {num_columnas} columnas.\")\n",
        "\n",
        "# Imprimir tamaño del DataFrame original (df)\n",
        "num_filas_df = df.count()\n",
        "num_columnas_df = len(df.columns)\n",
        "print(f\"Tamaño del DataFrame original (df): {num_filas_df} filas y {num_columnas_df} columnas.\")\n",
        "\n",
        "# Imprimir tamaño del DataFrame limpio (df_cleaned)\n",
        "num_filas_cleaned = df_cleaned.count()\n",
        "num_columnas_cleaned = len(df_cleaned.columns)\n",
        "print(f\"Tamaño del DataFrame limpio (df_cleaned): {num_filas_cleaned} filas y {num_columnas_cleaned} columnas.\")\n"
      ],
      "metadata": {
        "id": "lBChKCSSljoY",
        "outputId": "e01777d1-4099-408f-d736-771701bea81a",
        "colab": {
          "base_uri": "https://localhost:8080/"
        }
      },
      "execution_count": 25,
      "outputs": [
        {
          "output_type": "stream",
          "name": "stdout",
          "text": [
            "Tamaño del DataFrame CSV: 8428 filas y 31 columnas.\n",
            "Tamaño del DataFrame original (df): 8428 filas y 31 columnas.\n",
            "Tamaño del DataFrame limpio (df_cleaned): 1228 filas y 31 columnas.\n"
          ]
        }
      ]
    },
    {
      "cell_type": "markdown",
      "source": [
        "### ¿Incluyen los datos una o más variables relevantes para la pregunta de negocio?\n",
        "\n",
        "Si, si nos enfocamos en predecir o analizar precios de mercado para finca raiz\n"
      ],
      "metadata": {
        "id": "b3w9egAxmlwz"
      }
    },
    {
      "cell_type": "code",
      "source": [
        "# Imprimir el esquema del DataFrame\n",
        "df_cleaned.printSchema()\n",
        "\n",
        "# Mostrar una vista previa de los datos\n",
        "df_cleaned.show(5)\n"
      ],
      "metadata": {
        "id": "llSzWPg_mmGj",
        "outputId": "a9a46239-0292-4e95-aef5-4232b6764b75",
        "colab": {
          "base_uri": "https://localhost:8080/"
        }
      },
      "execution_count": 26,
      "outputs": [
        {
          "output_type": "stream",
          "name": "stdout",
          "text": [
            "root\n",
            " |-- habitaciones: string (nullable = true)\n",
            " |-- baños: string (nullable = true)\n",
            " |-- parqueaderos: string (nullable = true)\n",
            " |-- area_construida: string (nullable = true)\n",
            " |-- area_privada: string (nullable = true)\n",
            " |-- estrato: string (nullable = true)\n",
            " |-- estado: string (nullable = true)\n",
            " |-- antiguedad: string (nullable = true)\n",
            " |-- administracion: double (nullable = true)\n",
            " |-- precio_m2: string (nullable = true)\n",
            " |-- ascensor: string (nullable = true)\n",
            " |-- circuito_cerrado_de_TV: string (nullable = true)\n",
            " |-- parqueadero_visitantes: string (nullable = true)\n",
            " |-- porteria_recepcion: string (nullable = true)\n",
            " |-- zonas_verdes: string (nullable = true)\n",
            " |-- salon_comunal: string (nullable = true)\n",
            " |-- balcon: string (nullable = true)\n",
            " |-- barra_estilo_americano: string (nullable = true)\n",
            " |-- calentador: string (nullable = true)\n",
            " |-- chimenea: string (nullable = true)\n",
            " |-- citofono: string (nullable = true)\n",
            " |-- cocina_integral: string (nullable = true)\n",
            " |-- terraza: string (nullable = true)\n",
            " |-- vigilancia: string (nullable = true)\n",
            " |-- parques_cercanos: string (nullable = true)\n",
            " |-- estudio: string (nullable = true)\n",
            " |-- patio: string (nullable = true)\n",
            " |-- deposito_bodega: string (nullable = true)\n",
            " |-- nombre: string (nullable = true)\n",
            " |-- ubicacion: string (nullable = true)\n",
            " |-- precio: double (nullable = true)\n",
            "\n",
            "+------------+-----+------------+---------------+------------+-------+-----------+--------------+--------------+---------+--------+----------------------+----------------------+------------------+------------+-------------+------+----------------------+----------+--------+--------+---------------+-------+----------+----------------+-------+-----+---------------+-----------+----------------+-------+\n",
            "|habitaciones|baños|parqueaderos|area_construida|area_privada|estrato|     estado|    antiguedad|administracion|precio_m2|ascensor|circuito_cerrado_de_TV|parqueadero_visitantes|porteria_recepcion|zonas_verdes|salon_comunal|balcon|barra_estilo_americano|calentador|chimenea|citofono|cocina_integral|terraza|vigilancia|parques_cercanos|estudio|patio|deposito_bodega|     nombre|       ubicacion| precio|\n",
            "+------------+-----+------------+---------------+------------+-------+-----------+--------------+--------------+---------+--------+----------------------+----------------------+------------------+------------+-------------+------+----------------------+----------+--------+--------+---------------+-------+----------+----------------+-------+-----+---------------+-----------+----------------+-------+\n",
            "|           1|    2|           1|             50|           0|      5|      bueno|   9 a 15 años|      310000.0|  6800000|       0|                     0|                     0|                 1|           0|            0|     1|                     0|         0|       0|       0|              1|      0|         0|               0|      0|    0|              1|apartamento|        contador|  3.4E8|\n",
            "|           4|    3|           1|             90|           0|      4|      bueno|más de 30 años|      369000.0|  4000000|       1|                     0|                     1|                 1|           0|            1|     0|                     0|         1|       1|       1|              1|      1|         0|               0|      0|    0|              1|apartamento|      cedro golf|  3.6E8|\n",
            "|           2|    3|           4|            322|         277|      6|no definida|    1 a 8 años|     2304000.0|  9000000|       1|                     1|                     0|                 0|           0|            0|     1|                     0|         1|       1|       1|              0|      0|         0|               0|      0|    0|              0|apartamento|     los rosales|2.898E9|\n",
            "|           2|    2|           1|             75|          75|      4|  excelente|  16 a 30 años|      316000.0|  4200000|       0|                     0|                     1|                 1|           0|            1|     0|                     0|         1|       1|       1|              1|      0|         1|               0|      0|    0|              0|apartamento|         mazurén| 3.15E8|\n",
            "|           3|    2|           1|            100|         100|      5|      bueno|  16 a 30 años|      440000.0|  5000000|       1|                     1|                     0|                 0|           0|            0|     1|                     0|         1|       0|       1|              1|      0|         0|               0|      1|    0|              1|apartamento|colina campestre|  5.0E8|\n",
            "+------------+-----+------------+---------------+------------+-------+-----------+--------------+--------------+---------+--------+----------------------+----------------------+------------------+------------+-------------+------+----------------------+----------+--------+--------+---------------+-------+----------+----------------+-------+-----+---------------+-----------+----------------+-------+\n",
            "only showing top 5 rows\n",
            "\n"
          ]
        }
      ]
    },
    {
      "cell_type": "markdown",
      "source": [
        "### ¿Qué tipos de datos están presentes (simbólicos, numéricos, etc.)?\n",
        "\n",
        "Según las directrices de IBM, el formato de los datos en el conjunto actual incluye principalmente:\n",
        "\n",
        "1. **Valores Numéricos:** Utilizados para variables como `precio`, `area_construida`, `estrato`, `administracion`, `habitaciones`, y `baños`. Estos valores son representaciones numéricas de atributos específicos de las propiedades.\n",
        "\n",
        "2. **Valores Categóricos:** Representados como cadenas de texto en variables como `ubicacion`, `estado`, y `antiguedad`. Estos campos describen características tales como la ubicación geográfica de las propiedades, su estado general y su antigüedad."
      ],
      "metadata": {
        "id": "g736_OyVm-EU"
      }
    },
    {
      "cell_type": "code",
      "source": [
        "# Mostrar los tipos de datos de cada columna en el DataFrame\n",
        "print(df_cleaned.dtypes)"
      ],
      "metadata": {
        "id": "rD6GPt8CnEa5",
        "outputId": "dd47f4be-d748-4b57-9e18-9b0292da6790",
        "colab": {
          "base_uri": "https://localhost:8080/"
        }
      },
      "execution_count": 27,
      "outputs": [
        {
          "output_type": "stream",
          "name": "stdout",
          "text": [
            "[('habitaciones', 'string'), ('baños', 'string'), ('parqueaderos', 'string'), ('area_construida', 'string'), ('area_privada', 'string'), ('estrato', 'string'), ('estado', 'string'), ('antiguedad', 'string'), ('administracion', 'double'), ('precio_m2', 'string'), ('ascensor', 'string'), ('circuito_cerrado_de_TV', 'string'), ('parqueadero_visitantes', 'string'), ('porteria_recepcion', 'string'), ('zonas_verdes', 'string'), ('salon_comunal', 'string'), ('balcon', 'string'), ('barra_estilo_americano', 'string'), ('calentador', 'string'), ('chimenea', 'string'), ('citofono', 'string'), ('cocina_integral', 'string'), ('terraza', 'string'), ('vigilancia', 'string'), ('parques_cercanos', 'string'), ('estudio', 'string'), ('patio', 'string'), ('deposito_bodega', 'string'), ('nombre', 'string'), ('ubicacion', 'string'), ('precio', 'double')]\n"
          ]
        }
      ]
    },
    {
      "cell_type": "markdown",
      "source": [
        "### ¿Ha calculado estadísticas básicas para las variables clave? ¿Qué información le ha proporcionado sobre la cuestión de negocio?\n",
        "\n",
        "Para calcular estadísticas básicas para las variables clave del conjunto de datos y obtener información relevante para la pregunta de negocio, utilizamnos funciones estadísticas disponibles en Spark como describe() y summary(). Estas funciones proporcionan un resumen estadístico que incluye el recuento de registros, la media, la desviación estándar, los valores mínimo y máximo, y los cuartiles para las columnas numéricas."
      ],
      "metadata": {
        "id": "Gos2XnPwnmXX"
      }
    },
    {
      "cell_type": "code",
      "source": [
        "# Importar funciones de Spark SQL\n",
        "from pyspark.sql import functions as F\n",
        "\n",
        "# Calcular estadísticas básicas para las variables clave\n",
        "df_cleaned.select(\"precio\", \"area_construida\", \"estrato\", \"administracion\", \"habitaciones\", \"baños\") \\\n",
        "    .describe() \\\n",
        "    .show(truncate=False)\n",
        "\n"
      ],
      "metadata": {
        "id": "iPU6RIHhnmow",
        "outputId": "b7450764-0f79-4dee-8d3c-af54ad63f16c",
        "colab": {
          "base_uri": "https://localhost:8080/"
        }
      },
      "execution_count": 30,
      "outputs": [
        {
          "output_type": "stream",
          "name": "stdout",
          "text": [
            "+-------+-------------------+------------------+------------------+--------------------+------------------+------------------+\n",
            "|summary|precio             |area_construida   |estrato           |administracion      |habitaciones      |baños             |\n",
            "+-------+-------------------+------------------+------------------+--------------------+------------------+------------------+\n",
            "|count  |1228               |1228              |1228              |1228                |1228              |1228              |\n",
            "|mean   |7.088844186726384E8|133.32247557003257|4.257328990228013 |1066635.690553746   |3.122549019607843 |2.616830065359477 |\n",
            "|stddev |7.392032811774138E8|122.39983613402062|1.2647448335372662|2.1395207257076625E7|1.7208304026784156|1.2804886193861416|\n",
            "|min    |6.0E7              |1                 |1                 |1.0                 |1                 |1                 |\n",
            "|max    |9.8E9              |98                |6                 |7.5E8               |no definida       |no definida       |\n",
            "+-------+-------------------+------------------+------------------+--------------------+------------------+------------------+\n",
            "\n"
          ]
        }
      ]
    },
    {
      "cell_type": "markdown",
      "source": [
        "### ¿Es capaz de priorizar las variables relevantes? Si no es así, ¿hay analistas de negocio disponibles para proporcionar más información?\n",
        "\n",
        "sería recomendable consultar con analistas de negocio disponibles. Ellos pueden ofrecer una perspectiva experta sobre qué variables son más críticas para abordar la pregunta de negocio específica, ayudando así a centrar el análisis en los factores que más impactan en los resultados deseados."
      ],
      "metadata": {
        "id": "gasWOXV1ojyw"
      }
    }
  ]
}