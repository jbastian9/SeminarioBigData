{
  "nbformat": 4,
  "nbformat_minor": 0,
  "metadata": {
    "colab": {
      "provenance": [],
      "include_colab_link": true
    },
    "kernelspec": {
      "name": "python3",
      "display_name": "Python 3"
    },
    "language_info": {
      "name": "python"
    }
  },
  "cells": [
    {
      "cell_type": "markdown",
      "metadata": {
        "id": "view-in-github",
        "colab_type": "text"
      },
      "source": [
        "<a href=\"https://colab.research.google.com/github/jbastian9/SeminarioBigData/blob/main/Copia_de_Lab3.ipynb\" target=\"_parent\"><img src=\"https://colab.research.google.com/assets/colab-badge.svg\" alt=\"Open In Colab\"/></a>"
      ]
    },
    {
      "cell_type": "code",
      "source": [
        "from google.colab import drive\n",
        "drive.mount('/content/drive')"
      ],
      "metadata": {
        "id": "dMTtJVbGLtWp",
        "colab": {
          "base_uri": "https://localhost:8080/"
        },
        "outputId": "9302fe5f-2f75-4614-866f-c6da2426b913"
      },
      "execution_count": 1,
      "outputs": [
        {
          "output_type": "stream",
          "name": "stdout",
          "text": [
            "Drive already mounted at /content/drive; to attempt to forcibly remount, call drive.mount(\"/content/drive\", force_remount=True).\n"
          ]
        }
      ]
    },
    {
      "cell_type": "code",
      "source": [
        "!pip install pyspark"
      ],
      "metadata": {
        "colab": {
          "base_uri": "https://localhost:8080/"
        },
        "id": "GlA8ysqvRjtd",
        "outputId": "5b8ac7b3-2f0f-4b51-f532-fdc63d8cf49d"
      },
      "execution_count": 2,
      "outputs": [
        {
          "output_type": "stream",
          "name": "stdout",
          "text": [
            "Requirement already satisfied: pyspark in /usr/local/lib/python3.10/dist-packages (3.5.1)\n",
            "Requirement already satisfied: py4j==0.10.9.7 in /usr/local/lib/python3.10/dist-packages (from pyspark) (0.10.9.7)\n"
          ]
        }
      ]
    },
    {
      "cell_type": "markdown",
      "source": [
        "El archivo CSV presenta errores de formato al intentar separar los datos utilizando el delimitador \",\". Por esta razón, decidimos utilizar un RDD con un split por coma para cada elemento del CSV.\n",
        "\n",
        "Cargar el archivo como un Resilient Distributed Dataset (RDD) nos permite manipular el contenido del archivo a un nivel más bajo que utilizando un DataFrame. Esto puede ser útil cuando el archivo tiene problemas de formato, como es nuestro caso actual.\n",
        "\n",
        "Es importante tener en cuenta que al convertir el archivo CSV en un TXT y usar un split por \",\", este método podría no ser útil si la información incluye campos como \"observaciones\" u otros tipos de contenido que puedan contener comas."
      ],
      "metadata": {
        "id": "WTokoqarSE-r"
      }
    },
    {
      "cell_type": "code",
      "source": [
        "from pyspark.sql import SparkSession\n",
        "from pyspark.sql import Row\n",
        "\n",
        "# Iniciar una sesión de Spark\n",
        "spark = SparkSession.builder.appName(\"LimpiezaDeDatos\").getOrCreate()\n",
        "\n",
        "# Ruta del archivo CSV\n",
        "ruta_archivo = \"/content/drive/MyDrive/Colab Notebooks/data/Copia de housing_fincaraiz.csv\"\n",
        "\n",
        "# Cargar el archivo como un RDD\n",
        "rdd = spark.sparkContext.textFile(ruta_archivo)\n",
        "\n",
        "# Separar el encabezado del resto de los datos\n",
        "encabezado = rdd.first()\n",
        "datos = rdd.filter(lambda x: x != encabezado)\n",
        "\n",
        "# Dividir el encabezado y las filas por comas\n",
        "columnas = encabezado.split(',')\n",
        "\n",
        "# Asegurarse de que la longitud de los nombres de las columnas coincide con la cantidad de datos en cada fila\n",
        "def parsear_fila(fila):\n",
        "    elementos = fila.split(',')\n",
        "    if len(elementos) == len(columnas):\n",
        "        return Row(*elementos)\n",
        "    else:\n",
        "        return None\n",
        "\n",
        "# Parsear las filas y filtrar las que no se pueden parsear correctamente\n",
        "filas_parsedas = datos.map(parsear_fila).filter(lambda x: x is not None)\n",
        "\n",
        "# Crear el DataFrame a partir del RDD\n",
        "df = spark.createDataFrame(filas_parsedas, schema=columnas)\n",
        "\n",
        "# Nuevos nombres de columnas\n",
        "nuevos_nombres_columnas = [\n",
        "    \"habitaciones\", \"baños\", \"parqueaderos\", \"area_construida\", \"area_privada\", \"estrato\",\n",
        "    \"estado\", \"antiguedad\", \"administracion\", \"precio_m2\", \"ascensor\", \"circuito_cerrado_de_TV\",\n",
        "    \"parqueadero_visitantes\", \"porteria_recepcion\", \"zonas_verdes\", \"salon_comunal\", \"balcon\",\n",
        "    \"barra_estilo_americano\", \"calentador\", \"chimenea\", \"citofono\", \"cocina_integral\", \"terraza\",\n",
        "    \"vigilancia\", \"parques_cercanos\", \"estudio\", \"patio\", \"deposito_bodega\", \"nombre\", \"ubicacion\", \"precio\"\n",
        "]\n",
        "\n",
        "# Validación de la cantidad de columnas\n",
        "if len(columnas) != len(nuevos_nombres_columnas):\n",
        "    print(\"The number of columns does not match. Adjust the new_column_names list.\")\n",
        "    print(f\"Original Columns ({len(columnas)}): {columnas}\")\n",
        "    print(f\"New Column Names ({len(nuevos_nombres_columnas)}): {nuevos_nombres_columnas}\")\n",
        "else:\n",
        "    # Renombrar las columnas del DataFrame\n",
        "    df = df.toDF(*nuevos_nombres_columnas)\n",
        "    # Mostrar todos los datos en forma de tabla\n",
        "    df.show(truncate=False)\n"
      ],
      "metadata": {
        "colab": {
          "base_uri": "https://localhost:8080/"
        },
        "id": "t50bgSLQN8Ex",
        "outputId": "188b8173-39dd-4dfd-d61f-a21dacb57593"
      },
      "execution_count": 24,
      "outputs": [
        {
          "output_type": "stream",
          "name": "stdout",
          "text": [
            "+------------+-----+------------+---------------+------------+-------+-----------+--------------+---------------+--------------+--------+----------------------+----------------------+------------------+------------+-------------+------+----------------------+----------+--------+--------+---------------+-------+----------+----------------+-------+-----+---------------+-----------+--------------------+----------+\n",
            "|habitaciones|baños|parqueaderos|area_construida|area_privada|estrato|estado     |antiguedad    |administracion |precio_m2     |ascensor|circuito_cerrado_de_TV|parqueadero_visitantes|porteria_recepcion|zonas_verdes|salon_comunal|balcon|barra_estilo_americano|calentador|chimenea|citofono|cocina_integral|terraza|vigilancia|parques_cercanos|estudio|patio|deposito_bodega|nombre     |ubicacion           |precio    |\n",
            "+------------+-----+------------+---------------+------------+-------+-----------+--------------+---------------+--------------+--------+----------------------+----------------------+------------------+------------+-------------+------+----------------------+----------+--------+--------+---------------+-------+----------+----------------+-------+-----+---------------+-----------+--------------------+----------+\n",
            "|1           |2    |1           |50 m²          |0 m²        |5      |Bueno      |9 a 15 años   |$ 310.000 COP  |$ 6.800.000*m²|0       |0                     |0                     |1                 |0           |0            |1     |0                     |0         |0       |0       |1              |0      |0         |0               |0      |0    |1              |Apartamento|Contador            |340000000 |\n",
            "|4           |3    |1           |90 m²          |0 m²        |4      |Bueno      |más de 30 años|$ 369.000 COP  |$ 4.000.000*m²|1       |0                     |1                     |1                 |0           |1            |0     |0                     |1         |1       |1       |1              |1      |0         |0               |0      |0    |1              |Apartamento|Cedro Golf          |360000000 |\n",
            "|2           |3    |4           |322 m²         |277 m²      |6      |No definida|1 a 8 años    |$ 2.304.000 COP|$ 9.000.000*m²|1       |1                     |0                     |0                 |0           |0            |1     |0                     |1         |1       |1       |0              |0      |0         |0               |0      |0    |0              |Apartamento|Los Rosales         |2898000000|\n",
            "|2           |2    |1           |75 m²          |75 m²       |4      |Excelente  |16 a 30 años  |$ 316.000 COP  |$ 4.200.000*m²|0       |0                     |1                     |1                 |0           |1            |0     |0                     |1         |1       |1       |1              |0      |1         |0               |0      |0    |0              |Apartamento|Mazurén             |315000000 |\n",
            "|3           |2    |1           |100 m²         |100 m²      |5      |Bueno      |16 a 30 años  |$ 440.000 COP  |$ 5.000.000*m²|1       |1                     |0                     |0                 |0           |0            |1     |0                     |1         |0       |1       |1              |0      |0         |0               |1      |0    |1              |Apartamento|Colina Campestre    |500000000 |\n",
            "|3           |2    |1           |120 m²         |120 m²      |3      |Bueno      |16 a 30 años  |$ 195.000 COP  |$ 2.750.000*m²|0       |1                     |1                     |0                 |0           |1            |0     |0                     |1         |0       |1       |1              |0      |0         |0               |0      |1    |0              |Casa       |Nuevo Techo         |330000000 |\n",
            "|2           |2    |1           |80 m²          |80 m²       |6      |Excelente  |16 a 30 años  |$ 890.000 COP  |$ 7.437.500*m²|1       |0                     |0                     |1                 |0           |0            |0     |0                     |1         |1       |1       |1              |0      |1         |0               |0      |0    |1              |Apartamento|El Virrey           |595000000 |\n",
            "|5           |3    |2           |200 m²         |0 m²        |3      |No definida|16 a 30 años  |No definida    |$ 3.750.000*m²|0       |0                     |0                     |0                 |0           |0            |0     |0                     |0         |0       |0       |0              |0      |0         |0               |0      |0    |0              |Casa       |Paris gaitan        |750000000 |\n",
            "|3           |2    |0           |55 m²          |50 m²       |3      |Excelente  |9 a 15 años   |$ 109.000 COP  |$ 4.000.000*m²|0       |1                     |1                     |1                 |0           |1            |0     |0                     |1         |0       |1       |1              |0      |0         |0               |0      |1    |0              |Apartamento|Zona Noroccidente   |220000000 |\n",
            "|11          |6    |2           |320 m²         |320 m²      |3      |Bueno      |16 a 30 años  |No definida    |$ 2.187.500*m²|0       |0                     |0                     |0                 |0           |0            |0     |0                     |0         |0       |0       |0              |0      |0         |1               |1      |1    |1              |Casa       |Santa Rita          |700000000 |\n",
            "|4           |3    |2           |120 m²         |110 m²      |5      |Excelente  |16 a 30 años  |$ 500.000 COP  |$ 3.332.500*m²|0       |0                     |0                     |0                 |0           |0            |0     |0                     |0         |0       |0       |0              |0      |0         |0               |0      |0    |0              |Apartamento|Bella suiza         |399900000 |\n",
            "|1           |1    |1           |40 m²          |40 m²       |3      |Bueno      |16 a 30 años  |$ 141.000 COP  |$ 7.000.000*m²|0       |0                     |0                     |1                 |0           |0            |0     |0                     |0         |0       |1       |1              |0      |1         |1               |0      |0    |0              |Apartamento|zona centro         |280000000 |\n",
            "|5           |3    |1           |200 m²         |160 m²      |4      |Bueno      |más de 30 años|No definida    |$ 3.500.000*m²|0       |0                     |0                     |0                 |0           |0            |0     |0                     |0         |0       |0       |1              |0      |0         |1               |0      |0    |0              |Casa       |Palermo             |700000000 |\n",
            "|3           |3    |1           |75 m²          |67 m²       |4      |Bueno      |9 a 15 años   |$ 260.000 COP  |$ 4.600.000*m²|1       |1                     |1                     |0                 |0           |0            |0     |0                     |1         |0       |1       |1              |0      |0         |0               |1      |0    |0              |Apartamento|Villa alsacia       |345000000 |\n",
            "|3           |2    |0           |55 m²          |50 m²       |3      |Excelente  |9 a 15 años   |$ 109.000 COP  |$ 4.000.000*m²|0       |1                     |1                     |1                 |0           |1            |0     |0                     |1         |0       |1       |1              |0      |0         |0               |0      |1    |0              |Apartamento|Zona Noroccidente   |220000000 |\n",
            "|4           |5    |4           |200 m²         |0 m²        |5      |Excelente  |1 a 8 años    |$ 1.000.000 COP|$ 4.900.000*m²|1       |1                     |1                     |1                 |0           |0            |1     |1                     |1         |1       |1       |0              |0      |0         |0               |0      |0    |0              |Apartamento|Cedritos            |980000000 |\n",
            "|4           |3    |1           |90 m²          |0 m²        |4      |Bueno      |más de 30 años|$ 369.000 COP  |$ 4.000.000*m²|1       |0                     |1                     |1                 |0           |1            |0     |0                     |1         |1       |1       |1              |1      |0         |0               |0      |0    |1              |Apartamento|Cedro Golf          |360000000 |\n",
            "|3           |2    |0           |60 m²          |60 m²       |3      |Bueno      |9 a 15 años   |$ 130.000 COP  |$ 3.800.000*m²|1       |1                     |0                     |1                 |0           |1            |1     |0                     |1         |0       |1       |1              |0      |0         |0               |0      |0    |0              |Apartamento|Primavera Occidental|228000000 |\n",
            "|8           |5    |0           |500 m²         |0 m²        |3      |Excelente  |9 a 15 años   |No definida    |$ 3.400.000*m²|0       |1                     |0                     |0                 |0           |0            |0     |0                     |0         |0       |0       |1              |1      |0         |0               |0      |0    |1              |Casa       |Los Cerezos         |1700000000|\n",
            "|4           |4    |2           |136 m²         |128 m²      |4      |Excelente  |1 a 8 años    |$ 410.000 COP  |$ 6.250.000*m²|1       |1                     |1                     |0                 |0           |0            |1     |0                     |1         |1       |1       |0              |0      |0         |0               |0      |0    |0              |Apartamento|Mazurén             |850000000 |\n",
            "+------------+-----+------------+---------------+------------+-------+-----------+--------------+---------------+--------------+--------+----------------------+----------------------+------------------+------------+-------------+------+----------------------+----------+--------+--------+---------------+-------+----------+----------------+-------+-----+---------------+-----------+--------------------+----------+\n",
            "only showing top 20 rows\n",
            "\n"
          ]
        }
      ]
    }
  ]
}